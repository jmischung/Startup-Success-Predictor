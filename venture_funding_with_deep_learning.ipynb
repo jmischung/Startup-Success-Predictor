{
 "cells": [
  {
   "cell_type": "markdown",
   "metadata": {},
   "source": [
    "# Venture Funding with Deep Learning\n",
    "\n",
    "You work as a risk management associate at Alphabet Soup, a venture capital firm. Alphabet Soup’s business team receives many funding applications from startups every day. This team has asked you to help them create a model that predicts whether applicants will be successful if funded by Alphabet Soup.\n",
    "\n",
    "The business team has given you a CSV containing more than 34,000 organizations that have received funding from Alphabet Soup over the years. With your knowledge of machine learning and neural networks, you decide to use the features in the provided dataset to create a binary classifier model that will predict whether an applicant will become a successful business. The CSV file contains a variety of information about these businesses, including whether or not they ultimately became successful.\n",
    "\n",
    "## Instructions:\n",
    "\n",
    "The steps for this challenge are broken out into the following sections:\n",
    "\n",
    "* Prepare the data for use on a neural network model.\n",
    "\n",
    "* Compile and evaluate a binary classification model using a neural network.\n",
    "\n",
    "* Optimize the neural network model.\n",
    "\n",
    "### Prepare the Data for Use on a Neural Network Model \n",
    "\n",
    "Using your knowledge of Pandas and scikit-learn’s `StandardScaler()`, preprocess the dataset so that you can use it to compile and evaluate the neural network model later.\n",
    "\n",
    "Open the starter code file, and complete the following data preparation steps:\n",
    "\n",
    "1. Read the `applicants_data.csv` file into a Pandas DataFrame. Review the DataFrame, looking for categorical variables that will need to be encoded, as well as columns that could eventually define your features and target variables.   \n",
    "\n",
    "2. Drop the “EIN” (Employer Identification Number) and “NAME” columns from the DataFrame, because they are not relevant to the binary classification model.\n",
    " \n",
    "3. Encode the dataset’s categorical variables using `OneHotEncoder`, and then place the encoded variables into a new DataFrame.\n",
    "\n",
    "4. Add the original DataFrame’s numerical variables to the DataFrame containing the encoded variables.\n",
    "\n",
    "> **Note** To complete this step, you will employ the Pandas `concat()` function that was introduced earlier in this course. \n",
    "\n",
    "5. Using the preprocessed data, create the features (`X`) and target (`y`) datasets. The target dataset should be defined by the preprocessed DataFrame column “IS_SUCCESSFUL”. The remaining columns should define the features dataset. \n",
    "\n",
    "6. Split the features and target sets into training and testing datasets.\n",
    "\n",
    "7. Use scikit-learn's `StandardScaler` to scale the features data.\n",
    "\n",
    "### Compile and Evaluate a Binary Classification Model Using a Neural Network\n",
    "\n",
    "Use your knowledge of TensorFlow to design a binary classification deep neural network model. This model should use the dataset’s features to predict whether an Alphabet Soup&ndash;funded startup will be successful based on the features in the dataset. Consider the number of inputs before determining the number of layers that your model will contain or the number of neurons on each layer. Then, compile and fit your model. Finally, evaluate your binary classification model to calculate the model’s loss and accuracy. \n",
    " \n",
    "To do so, complete the following steps:\n",
    "\n",
    "1. Create a deep neural network by assigning the number of input features, the number of layers, and the number of neurons on each layer using Tensorflow’s Keras.\n",
    "\n",
    "> **Hint** You can start with a two-layer deep neural network model that uses the `relu` activation function for both layers.\n",
    "\n",
    "2. Compile and fit the model using the `binary_crossentropy` loss function, the `adam` optimizer, and the `accuracy` evaluation metric.\n",
    "\n",
    "> **Hint** When fitting the model, start with a small number of epochs, such as 20, 50, or 100.\n",
    "\n",
    "3. Evaluate the model using the test data to determine the model’s loss and accuracy.\n",
    "\n",
    "4. Save and export your model to an HDF5 file, and name the file `AlphabetSoup.h5`. \n",
    "\n",
    "### Optimize the Neural Network Model\n",
    "\n",
    "Using your knowledge of TensorFlow and Keras, optimize your model to improve the model's accuracy. Even if you do not successfully achieve a better accuracy, you'll need to demonstrate at least two attempts to optimize the model. You can include these attempts in your existing notebook. Or, you can make copies of the starter notebook in the same folder, rename them, and code each model optimization in a new notebook. \n",
    "\n",
    "> **Note** You will not lose points if your model does not achieve a high accuracy, as long as you make at least two attempts to optimize the model.\n",
    "\n",
    "To do so, complete the following steps:\n",
    "\n",
    "1. Define at least three new deep neural network models (the original plus 2 optimization attempts). With each, try to improve on your first model’s predictive accuracy.\n",
    "\n",
    "> **Rewind** Recall that perfect accuracy has a value of 1, so accuracy improves as its value moves closer to 1. To optimize your model for a predictive accuracy as close to 1 as possible, you can use any or all of the following techniques:\n",
    ">\n",
    "> * Adjust the input data by dropping different features columns to ensure that no variables or outliers confuse the model.\n",
    ">\n",
    "> * Add more neurons (nodes) to a hidden layer.\n",
    ">\n",
    "> * Add more hidden layers.\n",
    ">\n",
    "> * Use different activation functions for the hidden layers.\n",
    ">\n",
    "> * Add to or reduce the number of epochs in the training regimen.\n",
    "\n",
    "2. After finishing your models, display the accuracy scores achieved by each model, and compare the results.\n",
    "\n",
    "3. Save each of your models as an HDF5 file.\n"
   ]
  },
  {
   "cell_type": "code",
   "execution_count": 1,
   "metadata": {
    "execution": {
     "iopub.execute_input": "2022-03-04T21:32:46.054435Z",
     "iopub.status.busy": "2022-03-04T21:32:46.053987Z",
     "iopub.status.idle": "2022-03-04T21:32:46.069948Z",
     "shell.execute_reply": "2022-03-04T21:32:46.068982Z",
     "shell.execute_reply.started": "2022-03-04T21:32:46.054344Z"
    }
   },
   "outputs": [],
   "source": [
    "# Supress TensorFlow binary warnings\n",
    "import os\n",
    "os.environ['TF_CPP_MIN_LOG_LEVEL'] = '2'"
   ]
  },
  {
   "cell_type": "code",
   "execution_count": 67,
   "metadata": {
    "execution": {
     "iopub.execute_input": "2022-03-05T16:06:56.931557Z",
     "iopub.status.busy": "2022-03-05T16:06:56.930129Z",
     "iopub.status.idle": "2022-03-05T16:06:56.938797Z",
     "shell.execute_reply": "2022-03-05T16:06:56.937775Z",
     "shell.execute_reply.started": "2022-03-05T16:06:56.931504Z"
    },
    "tags": []
   },
   "outputs": [],
   "source": [
    "# Imports\n",
    "import pandas as pd\n",
    "from pathlib import Path\n",
    "import tensorflow as tf\n",
    "from tensorflow.keras.layers import Dense, Dropout\n",
    "from tensorflow.keras.models import Sequential\n",
    "from sklearn.model_selection import train_test_split\n",
    "from sklearn.preprocessing import StandardScaler, OneHotEncoder"
   ]
  },
  {
   "cell_type": "markdown",
   "metadata": {},
   "source": [
    "---\n",
    "\n",
    "## Prepare the data to be used on a neural network model"
   ]
  },
  {
   "cell_type": "markdown",
   "metadata": {},
   "source": [
    "### Step 1: Read the `applicants_data.csv` file into a Pandas DataFrame. Review the DataFrame, looking for categorical variables that will need to be encoded, as well as columns that could eventually define your features and target variables.  \n"
   ]
  },
  {
   "cell_type": "code",
   "execution_count": 3,
   "metadata": {
    "execution": {
     "iopub.execute_input": "2022-03-04T21:37:30.940941Z",
     "iopub.status.busy": "2022-03-04T21:37:30.940200Z",
     "iopub.status.idle": "2022-03-04T21:37:31.086136Z",
     "shell.execute_reply": "2022-03-04T21:37:31.085172Z",
     "shell.execute_reply.started": "2022-03-04T21:37:30.940871Z"
    }
   },
   "outputs": [
    {
     "data": {
      "text/html": [
       "<div>\n",
       "<style scoped>\n",
       "    .dataframe tbody tr th:only-of-type {\n",
       "        vertical-align: middle;\n",
       "    }\n",
       "\n",
       "    .dataframe tbody tr th {\n",
       "        vertical-align: top;\n",
       "    }\n",
       "\n",
       "    .dataframe thead th {\n",
       "        text-align: right;\n",
       "    }\n",
       "</style>\n",
       "<table border=\"1\" class=\"dataframe\">\n",
       "  <thead>\n",
       "    <tr style=\"text-align: right;\">\n",
       "      <th></th>\n",
       "      <th>EIN</th>\n",
       "      <th>NAME</th>\n",
       "      <th>APPLICATION_TYPE</th>\n",
       "      <th>AFFILIATION</th>\n",
       "      <th>CLASSIFICATION</th>\n",
       "      <th>USE_CASE</th>\n",
       "      <th>ORGANIZATION</th>\n",
       "      <th>STATUS</th>\n",
       "      <th>INCOME_AMT</th>\n",
       "      <th>SPECIAL_CONSIDERATIONS</th>\n",
       "      <th>ASK_AMT</th>\n",
       "      <th>IS_SUCCESSFUL</th>\n",
       "    </tr>\n",
       "  </thead>\n",
       "  <tbody>\n",
       "    <tr>\n",
       "      <th>0</th>\n",
       "      <td>10520599</td>\n",
       "      <td>BLUE KNIGHTS MOTORCYCLE CLUB</td>\n",
       "      <td>T10</td>\n",
       "      <td>Independent</td>\n",
       "      <td>C1000</td>\n",
       "      <td>ProductDev</td>\n",
       "      <td>Association</td>\n",
       "      <td>1</td>\n",
       "      <td>0</td>\n",
       "      <td>N</td>\n",
       "      <td>5000</td>\n",
       "      <td>1</td>\n",
       "    </tr>\n",
       "    <tr>\n",
       "      <th>1</th>\n",
       "      <td>10531628</td>\n",
       "      <td>AMERICAN CHESAPEAKE CLUB CHARITABLE TR</td>\n",
       "      <td>T3</td>\n",
       "      <td>Independent</td>\n",
       "      <td>C2000</td>\n",
       "      <td>Preservation</td>\n",
       "      <td>Co-operative</td>\n",
       "      <td>1</td>\n",
       "      <td>1-9999</td>\n",
       "      <td>N</td>\n",
       "      <td>108590</td>\n",
       "      <td>1</td>\n",
       "    </tr>\n",
       "    <tr>\n",
       "      <th>2</th>\n",
       "      <td>10547893</td>\n",
       "      <td>ST CLOUD PROFESSIONAL FIREFIGHTERS</td>\n",
       "      <td>T5</td>\n",
       "      <td>CompanySponsored</td>\n",
       "      <td>C3000</td>\n",
       "      <td>ProductDev</td>\n",
       "      <td>Association</td>\n",
       "      <td>1</td>\n",
       "      <td>0</td>\n",
       "      <td>N</td>\n",
       "      <td>5000</td>\n",
       "      <td>0</td>\n",
       "    </tr>\n",
       "    <tr>\n",
       "      <th>3</th>\n",
       "      <td>10553066</td>\n",
       "      <td>SOUTHSIDE ATHLETIC ASSOCIATION</td>\n",
       "      <td>T3</td>\n",
       "      <td>CompanySponsored</td>\n",
       "      <td>C2000</td>\n",
       "      <td>Preservation</td>\n",
       "      <td>Trust</td>\n",
       "      <td>1</td>\n",
       "      <td>10000-24999</td>\n",
       "      <td>N</td>\n",
       "      <td>6692</td>\n",
       "      <td>1</td>\n",
       "    </tr>\n",
       "    <tr>\n",
       "      <th>4</th>\n",
       "      <td>10556103</td>\n",
       "      <td>GENETIC RESEARCH INSTITUTE OF THE DESERT</td>\n",
       "      <td>T3</td>\n",
       "      <td>Independent</td>\n",
       "      <td>C1000</td>\n",
       "      <td>Heathcare</td>\n",
       "      <td>Trust</td>\n",
       "      <td>1</td>\n",
       "      <td>100000-499999</td>\n",
       "      <td>N</td>\n",
       "      <td>142590</td>\n",
       "      <td>1</td>\n",
       "    </tr>\n",
       "  </tbody>\n",
       "</table>\n",
       "</div>"
      ],
      "text/plain": [
       "        EIN                                      NAME APPLICATION_TYPE  \\\n",
       "0  10520599              BLUE KNIGHTS MOTORCYCLE CLUB              T10   \n",
       "1  10531628    AMERICAN CHESAPEAKE CLUB CHARITABLE TR               T3   \n",
       "2  10547893        ST CLOUD PROFESSIONAL FIREFIGHTERS               T5   \n",
       "3  10553066            SOUTHSIDE ATHLETIC ASSOCIATION               T3   \n",
       "4  10556103  GENETIC RESEARCH INSTITUTE OF THE DESERT               T3   \n",
       "\n",
       "        AFFILIATION CLASSIFICATION      USE_CASE  ORGANIZATION  STATUS  \\\n",
       "0       Independent          C1000    ProductDev   Association       1   \n",
       "1       Independent          C2000  Preservation  Co-operative       1   \n",
       "2  CompanySponsored          C3000    ProductDev   Association       1   \n",
       "3  CompanySponsored          C2000  Preservation         Trust       1   \n",
       "4       Independent          C1000     Heathcare         Trust       1   \n",
       "\n",
       "      INCOME_AMT SPECIAL_CONSIDERATIONS  ASK_AMT  IS_SUCCESSFUL  \n",
       "0              0                      N     5000              1  \n",
       "1         1-9999                      N   108590              1  \n",
       "2              0                      N     5000              0  \n",
       "3    10000-24999                      N     6692              1  \n",
       "4  100000-499999                      N   142590              1  "
      ]
     },
     "execution_count": 3,
     "metadata": {},
     "output_type": "execute_result"
    }
   ],
   "source": [
    "# Read the applicants_data.csv file from the Resources folder into a Pandas DataFrame\n",
    "applicant_data_df = pd.read_csv(\n",
    "    Path('Resources/applicants_data.csv')\n",
    ")\n",
    "\n",
    "# Review the DataFrame\n",
    "applicant_data_df.head()\n"
   ]
  },
  {
   "cell_type": "code",
   "execution_count": 7,
   "metadata": {
    "execution": {
     "iopub.execute_input": "2022-03-04T21:39:54.113097Z",
     "iopub.status.busy": "2022-03-04T21:39:54.112770Z",
     "iopub.status.idle": "2022-03-04T21:39:54.123379Z",
     "shell.execute_reply": "2022-03-04T21:39:54.122223Z",
     "shell.execute_reply.started": "2022-03-04T21:39:54.113064Z"
    },
    "tags": []
   },
   "outputs": [
    {
     "data": {
      "text/plain": [
       "APPLICATION_TYPE          object\n",
       "AFFILIATION               object\n",
       "CLASSIFICATION            object\n",
       "USE_CASE                  object\n",
       "ORGANIZATION              object\n",
       "STATUS                     int64\n",
       "INCOME_AMT                object\n",
       "SPECIAL_CONSIDERATIONS    object\n",
       "ASK_AMT                    int64\n",
       "IS_SUCCESSFUL              int64\n",
       "dtype: object"
      ]
     },
     "execution_count": 7,
     "metadata": {},
     "output_type": "execute_result"
    }
   ],
   "source": [
    "# Review the data types associated with the columns\n",
    "applicant_data_df.dtypes\n"
   ]
  },
  {
   "cell_type": "markdown",
   "metadata": {},
   "source": [
    "### Step 2: Drop the “EIN” (Employer Identification Number) and “NAME” columns from the DataFrame, because they are not relevant to the binary classification model."
   ]
  },
  {
   "cell_type": "code",
   "execution_count": 5,
   "metadata": {
    "execution": {
     "iopub.execute_input": "2022-03-04T21:38:47.394176Z",
     "iopub.status.busy": "2022-03-04T21:38:47.393013Z",
     "iopub.status.idle": "2022-03-04T21:38:47.413199Z",
     "shell.execute_reply": "2022-03-04T21:38:47.411949Z",
     "shell.execute_reply.started": "2022-03-04T21:38:47.394132Z"
    }
   },
   "outputs": [
    {
     "data": {
      "text/html": [
       "<div>\n",
       "<style scoped>\n",
       "    .dataframe tbody tr th:only-of-type {\n",
       "        vertical-align: middle;\n",
       "    }\n",
       "\n",
       "    .dataframe tbody tr th {\n",
       "        vertical-align: top;\n",
       "    }\n",
       "\n",
       "    .dataframe thead th {\n",
       "        text-align: right;\n",
       "    }\n",
       "</style>\n",
       "<table border=\"1\" class=\"dataframe\">\n",
       "  <thead>\n",
       "    <tr style=\"text-align: right;\">\n",
       "      <th></th>\n",
       "      <th>APPLICATION_TYPE</th>\n",
       "      <th>AFFILIATION</th>\n",
       "      <th>CLASSIFICATION</th>\n",
       "      <th>USE_CASE</th>\n",
       "      <th>ORGANIZATION</th>\n",
       "      <th>STATUS</th>\n",
       "      <th>INCOME_AMT</th>\n",
       "      <th>SPECIAL_CONSIDERATIONS</th>\n",
       "      <th>ASK_AMT</th>\n",
       "      <th>IS_SUCCESSFUL</th>\n",
       "    </tr>\n",
       "  </thead>\n",
       "  <tbody>\n",
       "    <tr>\n",
       "      <th>0</th>\n",
       "      <td>T10</td>\n",
       "      <td>Independent</td>\n",
       "      <td>C1000</td>\n",
       "      <td>ProductDev</td>\n",
       "      <td>Association</td>\n",
       "      <td>1</td>\n",
       "      <td>0</td>\n",
       "      <td>N</td>\n",
       "      <td>5000</td>\n",
       "      <td>1</td>\n",
       "    </tr>\n",
       "    <tr>\n",
       "      <th>1</th>\n",
       "      <td>T3</td>\n",
       "      <td>Independent</td>\n",
       "      <td>C2000</td>\n",
       "      <td>Preservation</td>\n",
       "      <td>Co-operative</td>\n",
       "      <td>1</td>\n",
       "      <td>1-9999</td>\n",
       "      <td>N</td>\n",
       "      <td>108590</td>\n",
       "      <td>1</td>\n",
       "    </tr>\n",
       "    <tr>\n",
       "      <th>2</th>\n",
       "      <td>T5</td>\n",
       "      <td>CompanySponsored</td>\n",
       "      <td>C3000</td>\n",
       "      <td>ProductDev</td>\n",
       "      <td>Association</td>\n",
       "      <td>1</td>\n",
       "      <td>0</td>\n",
       "      <td>N</td>\n",
       "      <td>5000</td>\n",
       "      <td>0</td>\n",
       "    </tr>\n",
       "    <tr>\n",
       "      <th>3</th>\n",
       "      <td>T3</td>\n",
       "      <td>CompanySponsored</td>\n",
       "      <td>C2000</td>\n",
       "      <td>Preservation</td>\n",
       "      <td>Trust</td>\n",
       "      <td>1</td>\n",
       "      <td>10000-24999</td>\n",
       "      <td>N</td>\n",
       "      <td>6692</td>\n",
       "      <td>1</td>\n",
       "    </tr>\n",
       "    <tr>\n",
       "      <th>4</th>\n",
       "      <td>T3</td>\n",
       "      <td>Independent</td>\n",
       "      <td>C1000</td>\n",
       "      <td>Heathcare</td>\n",
       "      <td>Trust</td>\n",
       "      <td>1</td>\n",
       "      <td>100000-499999</td>\n",
       "      <td>N</td>\n",
       "      <td>142590</td>\n",
       "      <td>1</td>\n",
       "    </tr>\n",
       "  </tbody>\n",
       "</table>\n",
       "</div>"
      ],
      "text/plain": [
       "  APPLICATION_TYPE       AFFILIATION CLASSIFICATION      USE_CASE  \\\n",
       "0              T10       Independent          C1000    ProductDev   \n",
       "1               T3       Independent          C2000  Preservation   \n",
       "2               T5  CompanySponsored          C3000    ProductDev   \n",
       "3               T3  CompanySponsored          C2000  Preservation   \n",
       "4               T3       Independent          C1000     Heathcare   \n",
       "\n",
       "   ORGANIZATION  STATUS     INCOME_AMT SPECIAL_CONSIDERATIONS  ASK_AMT  \\\n",
       "0   Association       1              0                      N     5000   \n",
       "1  Co-operative       1         1-9999                      N   108590   \n",
       "2   Association       1              0                      N     5000   \n",
       "3         Trust       1    10000-24999                      N     6692   \n",
       "4         Trust       1  100000-499999                      N   142590   \n",
       "\n",
       "   IS_SUCCESSFUL  \n",
       "0              1  \n",
       "1              1  \n",
       "2              0  \n",
       "3              1  \n",
       "4              1  "
      ]
     },
     "execution_count": 5,
     "metadata": {},
     "output_type": "execute_result"
    }
   ],
   "source": [
    "# Drop the 'EIN' and 'NAME' columns from the DataFrame\n",
    "applicant_data_df.drop(columns=['EIN', 'NAME'], axis=1, inplace=True)\n",
    "\n",
    "# Review the DataFrame\n",
    "applicant_data_df.head()\n"
   ]
  },
  {
   "cell_type": "markdown",
   "metadata": {},
   "source": [
    "### Step 3: Encode the dataset’s categorical variables using `OneHotEncoder`, and then place the encoded variables into a new DataFrame."
   ]
  },
  {
   "cell_type": "code",
   "execution_count": 8,
   "metadata": {
    "execution": {
     "iopub.execute_input": "2022-03-04T21:40:42.079948Z",
     "iopub.status.busy": "2022-03-04T21:40:42.078519Z",
     "iopub.status.idle": "2022-03-04T21:40:42.088685Z",
     "shell.execute_reply": "2022-03-04T21:40:42.087933Z",
     "shell.execute_reply.started": "2022-03-04T21:40:42.079895Z"
    }
   },
   "outputs": [
    {
     "data": {
      "text/plain": [
       "['APPLICATION_TYPE',\n",
       " 'AFFILIATION',\n",
       " 'CLASSIFICATION',\n",
       " 'USE_CASE',\n",
       " 'ORGANIZATION',\n",
       " 'INCOME_AMT',\n",
       " 'SPECIAL_CONSIDERATIONS']"
      ]
     },
     "execution_count": 8,
     "metadata": {},
     "output_type": "execute_result"
    }
   ],
   "source": [
    "# Create a list of categorical variables \n",
    "categorical_variables = list(\n",
    "    applicant_data_df.dtypes[applicant_data_df.dtypes == 'object'].index\n",
    ")\n",
    "\n",
    "# Display the categorical variables list\n",
    "categorical_variables\n"
   ]
  },
  {
   "cell_type": "code",
   "execution_count": 16,
   "metadata": {
    "execution": {
     "iopub.execute_input": "2022-03-04T21:45:31.572050Z",
     "iopub.status.busy": "2022-03-04T21:45:31.571554Z",
     "iopub.status.idle": "2022-03-04T21:45:31.838876Z",
     "shell.execute_reply": "2022-03-04T21:45:31.838195Z",
     "shell.execute_reply.started": "2022-03-04T21:45:31.572006Z"
    },
    "tags": []
   },
   "outputs": [
    {
     "data": {
      "text/html": [
       "<div>\n",
       "<style scoped>\n",
       "    .dataframe tbody tr th:only-of-type {\n",
       "        vertical-align: middle;\n",
       "    }\n",
       "\n",
       "    .dataframe tbody tr th {\n",
       "        vertical-align: top;\n",
       "    }\n",
       "\n",
       "    .dataframe thead th {\n",
       "        text-align: right;\n",
       "    }\n",
       "</style>\n",
       "<table border=\"1\" class=\"dataframe\">\n",
       "  <thead>\n",
       "    <tr style=\"text-align: right;\">\n",
       "      <th></th>\n",
       "      <th>APPLICATION_TYPE_T12</th>\n",
       "      <th>APPLICATION_TYPE_T13</th>\n",
       "      <th>APPLICATION_TYPE_T14</th>\n",
       "      <th>APPLICATION_TYPE_T15</th>\n",
       "      <th>APPLICATION_TYPE_T17</th>\n",
       "      <th>APPLICATION_TYPE_T19</th>\n",
       "      <th>APPLICATION_TYPE_T2</th>\n",
       "      <th>APPLICATION_TYPE_T25</th>\n",
       "      <th>APPLICATION_TYPE_T29</th>\n",
       "      <th>APPLICATION_TYPE_T3</th>\n",
       "      <th>...</th>\n",
       "      <th>ORGANIZATION_Trust</th>\n",
       "      <th>INCOME_AMT_1-9999</th>\n",
       "      <th>INCOME_AMT_10000-24999</th>\n",
       "      <th>INCOME_AMT_100000-499999</th>\n",
       "      <th>INCOME_AMT_10M-50M</th>\n",
       "      <th>INCOME_AMT_1M-5M</th>\n",
       "      <th>INCOME_AMT_25000-99999</th>\n",
       "      <th>INCOME_AMT_50M+</th>\n",
       "      <th>INCOME_AMT_5M-10M</th>\n",
       "      <th>SPECIAL_CONSIDERATIONS_Y</th>\n",
       "    </tr>\n",
       "  </thead>\n",
       "  <tbody>\n",
       "    <tr>\n",
       "      <th>0</th>\n",
       "      <td>0.0</td>\n",
       "      <td>0.0</td>\n",
       "      <td>0.0</td>\n",
       "      <td>0.0</td>\n",
       "      <td>0.0</td>\n",
       "      <td>0.0</td>\n",
       "      <td>0.0</td>\n",
       "      <td>0.0</td>\n",
       "      <td>0.0</td>\n",
       "      <td>0.0</td>\n",
       "      <td>...</td>\n",
       "      <td>0.0</td>\n",
       "      <td>0.0</td>\n",
       "      <td>0.0</td>\n",
       "      <td>0.0</td>\n",
       "      <td>0.0</td>\n",
       "      <td>0.0</td>\n",
       "      <td>0.0</td>\n",
       "      <td>0.0</td>\n",
       "      <td>0.0</td>\n",
       "      <td>0.0</td>\n",
       "    </tr>\n",
       "    <tr>\n",
       "      <th>1</th>\n",
       "      <td>0.0</td>\n",
       "      <td>0.0</td>\n",
       "      <td>0.0</td>\n",
       "      <td>0.0</td>\n",
       "      <td>0.0</td>\n",
       "      <td>0.0</td>\n",
       "      <td>0.0</td>\n",
       "      <td>0.0</td>\n",
       "      <td>0.0</td>\n",
       "      <td>1.0</td>\n",
       "      <td>...</td>\n",
       "      <td>0.0</td>\n",
       "      <td>1.0</td>\n",
       "      <td>0.0</td>\n",
       "      <td>0.0</td>\n",
       "      <td>0.0</td>\n",
       "      <td>0.0</td>\n",
       "      <td>0.0</td>\n",
       "      <td>0.0</td>\n",
       "      <td>0.0</td>\n",
       "      <td>0.0</td>\n",
       "    </tr>\n",
       "    <tr>\n",
       "      <th>2</th>\n",
       "      <td>0.0</td>\n",
       "      <td>0.0</td>\n",
       "      <td>0.0</td>\n",
       "      <td>0.0</td>\n",
       "      <td>0.0</td>\n",
       "      <td>0.0</td>\n",
       "      <td>0.0</td>\n",
       "      <td>0.0</td>\n",
       "      <td>0.0</td>\n",
       "      <td>0.0</td>\n",
       "      <td>...</td>\n",
       "      <td>0.0</td>\n",
       "      <td>0.0</td>\n",
       "      <td>0.0</td>\n",
       "      <td>0.0</td>\n",
       "      <td>0.0</td>\n",
       "      <td>0.0</td>\n",
       "      <td>0.0</td>\n",
       "      <td>0.0</td>\n",
       "      <td>0.0</td>\n",
       "      <td>0.0</td>\n",
       "    </tr>\n",
       "    <tr>\n",
       "      <th>3</th>\n",
       "      <td>0.0</td>\n",
       "      <td>0.0</td>\n",
       "      <td>0.0</td>\n",
       "      <td>0.0</td>\n",
       "      <td>0.0</td>\n",
       "      <td>0.0</td>\n",
       "      <td>0.0</td>\n",
       "      <td>0.0</td>\n",
       "      <td>0.0</td>\n",
       "      <td>1.0</td>\n",
       "      <td>...</td>\n",
       "      <td>1.0</td>\n",
       "      <td>0.0</td>\n",
       "      <td>1.0</td>\n",
       "      <td>0.0</td>\n",
       "      <td>0.0</td>\n",
       "      <td>0.0</td>\n",
       "      <td>0.0</td>\n",
       "      <td>0.0</td>\n",
       "      <td>0.0</td>\n",
       "      <td>0.0</td>\n",
       "    </tr>\n",
       "    <tr>\n",
       "      <th>4</th>\n",
       "      <td>0.0</td>\n",
       "      <td>0.0</td>\n",
       "      <td>0.0</td>\n",
       "      <td>0.0</td>\n",
       "      <td>0.0</td>\n",
       "      <td>0.0</td>\n",
       "      <td>0.0</td>\n",
       "      <td>0.0</td>\n",
       "      <td>0.0</td>\n",
       "      <td>1.0</td>\n",
       "      <td>...</td>\n",
       "      <td>1.0</td>\n",
       "      <td>0.0</td>\n",
       "      <td>0.0</td>\n",
       "      <td>1.0</td>\n",
       "      <td>0.0</td>\n",
       "      <td>0.0</td>\n",
       "      <td>0.0</td>\n",
       "      <td>0.0</td>\n",
       "      <td>0.0</td>\n",
       "      <td>0.0</td>\n",
       "    </tr>\n",
       "  </tbody>\n",
       "</table>\n",
       "<p>5 rows × 107 columns</p>\n",
       "</div>"
      ],
      "text/plain": [
       "   APPLICATION_TYPE_T12  APPLICATION_TYPE_T13  APPLICATION_TYPE_T14  \\\n",
       "0                   0.0                   0.0                   0.0   \n",
       "1                   0.0                   0.0                   0.0   \n",
       "2                   0.0                   0.0                   0.0   \n",
       "3                   0.0                   0.0                   0.0   \n",
       "4                   0.0                   0.0                   0.0   \n",
       "\n",
       "   APPLICATION_TYPE_T15  APPLICATION_TYPE_T17  APPLICATION_TYPE_T19  \\\n",
       "0                   0.0                   0.0                   0.0   \n",
       "1                   0.0                   0.0                   0.0   \n",
       "2                   0.0                   0.0                   0.0   \n",
       "3                   0.0                   0.0                   0.0   \n",
       "4                   0.0                   0.0                   0.0   \n",
       "\n",
       "   APPLICATION_TYPE_T2  APPLICATION_TYPE_T25  APPLICATION_TYPE_T29  \\\n",
       "0                  0.0                   0.0                   0.0   \n",
       "1                  0.0                   0.0                   0.0   \n",
       "2                  0.0                   0.0                   0.0   \n",
       "3                  0.0                   0.0                   0.0   \n",
       "4                  0.0                   0.0                   0.0   \n",
       "\n",
       "   APPLICATION_TYPE_T3  ...  ORGANIZATION_Trust  INCOME_AMT_1-9999  \\\n",
       "0                  0.0  ...                 0.0                0.0   \n",
       "1                  1.0  ...                 0.0                1.0   \n",
       "2                  0.0  ...                 0.0                0.0   \n",
       "3                  1.0  ...                 1.0                0.0   \n",
       "4                  1.0  ...                 1.0                0.0   \n",
       "\n",
       "   INCOME_AMT_10000-24999  INCOME_AMT_100000-499999  INCOME_AMT_10M-50M  \\\n",
       "0                     0.0                       0.0                 0.0   \n",
       "1                     0.0                       0.0                 0.0   \n",
       "2                     0.0                       0.0                 0.0   \n",
       "3                     1.0                       0.0                 0.0   \n",
       "4                     0.0                       1.0                 0.0   \n",
       "\n",
       "   INCOME_AMT_1M-5M  INCOME_AMT_25000-99999  INCOME_AMT_50M+  \\\n",
       "0               0.0                     0.0              0.0   \n",
       "1               0.0                     0.0              0.0   \n",
       "2               0.0                     0.0              0.0   \n",
       "3               0.0                     0.0              0.0   \n",
       "4               0.0                     0.0              0.0   \n",
       "\n",
       "   INCOME_AMT_5M-10M  SPECIAL_CONSIDERATIONS_Y  \n",
       "0                0.0                       0.0  \n",
       "1                0.0                       0.0  \n",
       "2                0.0                       0.0  \n",
       "3                0.0                       0.0  \n",
       "4                0.0                       0.0  \n",
       "\n",
       "[5 rows x 107 columns]"
      ]
     },
     "execution_count": 16,
     "metadata": {},
     "output_type": "execute_result"
    }
   ],
   "source": [
    "# Create a OneHotEncoder instance\n",
    "enc = OneHotEncoder(drop='first', sparse=False)\n",
    "\n",
    "# Encode the categorcal variables using OneHotEncoder\n",
    "encoded_data = enc.fit_transform(applicant_data_df[categorical_variables])\n",
    "\n",
    "# Create a DataFrame with the encoded variables\n",
    "encoded_df = pd.DataFrame(\n",
    "    encoded_data,\n",
    "    columns=enc.get_feature_names_out()\n",
    ")\n",
    "\n",
    "# Review the DataFrame\n",
    "encoded_df.head()\n"
   ]
  },
  {
   "cell_type": "markdown",
   "metadata": {},
   "source": [
    "### Step 4: Add the original DataFrame’s numerical variables to the DataFrame containing the encoded variables.\n",
    "\n",
    "> **Note** To complete this step, you will employ the Pandas `concat()` function that was introduced earlier in this course. "
   ]
  },
  {
   "cell_type": "code",
   "execution_count": 19,
   "metadata": {
    "execution": {
     "iopub.execute_input": "2022-03-04T21:48:22.250897Z",
     "iopub.status.busy": "2022-03-04T21:48:22.250199Z",
     "iopub.status.idle": "2022-03-04T21:48:22.439081Z",
     "shell.execute_reply": "2022-03-04T21:48:22.438347Z",
     "shell.execute_reply.started": "2022-03-04T21:48:22.250683Z"
    }
   },
   "outputs": [
    {
     "data": {
      "text/html": [
       "<div>\n",
       "<style scoped>\n",
       "    .dataframe tbody tr th:only-of-type {\n",
       "        vertical-align: middle;\n",
       "    }\n",
       "\n",
       "    .dataframe tbody tr th {\n",
       "        vertical-align: top;\n",
       "    }\n",
       "\n",
       "    .dataframe thead th {\n",
       "        text-align: right;\n",
       "    }\n",
       "</style>\n",
       "<table border=\"1\" class=\"dataframe\">\n",
       "  <thead>\n",
       "    <tr style=\"text-align: right;\">\n",
       "      <th></th>\n",
       "      <th>APPLICATION_TYPE_T12</th>\n",
       "      <th>APPLICATION_TYPE_T13</th>\n",
       "      <th>APPLICATION_TYPE_T14</th>\n",
       "      <th>APPLICATION_TYPE_T15</th>\n",
       "      <th>APPLICATION_TYPE_T17</th>\n",
       "      <th>APPLICATION_TYPE_T19</th>\n",
       "      <th>APPLICATION_TYPE_T2</th>\n",
       "      <th>APPLICATION_TYPE_T25</th>\n",
       "      <th>APPLICATION_TYPE_T29</th>\n",
       "      <th>APPLICATION_TYPE_T3</th>\n",
       "      <th>...</th>\n",
       "      <th>INCOME_AMT_100000-499999</th>\n",
       "      <th>INCOME_AMT_10M-50M</th>\n",
       "      <th>INCOME_AMT_1M-5M</th>\n",
       "      <th>INCOME_AMT_25000-99999</th>\n",
       "      <th>INCOME_AMT_50M+</th>\n",
       "      <th>INCOME_AMT_5M-10M</th>\n",
       "      <th>SPECIAL_CONSIDERATIONS_Y</th>\n",
       "      <th>STATUS</th>\n",
       "      <th>ASK_AMT</th>\n",
       "      <th>IS_SUCCESSFUL</th>\n",
       "    </tr>\n",
       "  </thead>\n",
       "  <tbody>\n",
       "    <tr>\n",
       "      <th>0</th>\n",
       "      <td>0.0</td>\n",
       "      <td>0.0</td>\n",
       "      <td>0.0</td>\n",
       "      <td>0.0</td>\n",
       "      <td>0.0</td>\n",
       "      <td>0.0</td>\n",
       "      <td>0.0</td>\n",
       "      <td>0.0</td>\n",
       "      <td>0.0</td>\n",
       "      <td>0.0</td>\n",
       "      <td>...</td>\n",
       "      <td>0.0</td>\n",
       "      <td>0.0</td>\n",
       "      <td>0.0</td>\n",
       "      <td>0.0</td>\n",
       "      <td>0.0</td>\n",
       "      <td>0.0</td>\n",
       "      <td>0.0</td>\n",
       "      <td>1</td>\n",
       "      <td>5000</td>\n",
       "      <td>1</td>\n",
       "    </tr>\n",
       "    <tr>\n",
       "      <th>1</th>\n",
       "      <td>0.0</td>\n",
       "      <td>0.0</td>\n",
       "      <td>0.0</td>\n",
       "      <td>0.0</td>\n",
       "      <td>0.0</td>\n",
       "      <td>0.0</td>\n",
       "      <td>0.0</td>\n",
       "      <td>0.0</td>\n",
       "      <td>0.0</td>\n",
       "      <td>1.0</td>\n",
       "      <td>...</td>\n",
       "      <td>0.0</td>\n",
       "      <td>0.0</td>\n",
       "      <td>0.0</td>\n",
       "      <td>0.0</td>\n",
       "      <td>0.0</td>\n",
       "      <td>0.0</td>\n",
       "      <td>0.0</td>\n",
       "      <td>1</td>\n",
       "      <td>108590</td>\n",
       "      <td>1</td>\n",
       "    </tr>\n",
       "    <tr>\n",
       "      <th>2</th>\n",
       "      <td>0.0</td>\n",
       "      <td>0.0</td>\n",
       "      <td>0.0</td>\n",
       "      <td>0.0</td>\n",
       "      <td>0.0</td>\n",
       "      <td>0.0</td>\n",
       "      <td>0.0</td>\n",
       "      <td>0.0</td>\n",
       "      <td>0.0</td>\n",
       "      <td>0.0</td>\n",
       "      <td>...</td>\n",
       "      <td>0.0</td>\n",
       "      <td>0.0</td>\n",
       "      <td>0.0</td>\n",
       "      <td>0.0</td>\n",
       "      <td>0.0</td>\n",
       "      <td>0.0</td>\n",
       "      <td>0.0</td>\n",
       "      <td>1</td>\n",
       "      <td>5000</td>\n",
       "      <td>0</td>\n",
       "    </tr>\n",
       "    <tr>\n",
       "      <th>3</th>\n",
       "      <td>0.0</td>\n",
       "      <td>0.0</td>\n",
       "      <td>0.0</td>\n",
       "      <td>0.0</td>\n",
       "      <td>0.0</td>\n",
       "      <td>0.0</td>\n",
       "      <td>0.0</td>\n",
       "      <td>0.0</td>\n",
       "      <td>0.0</td>\n",
       "      <td>1.0</td>\n",
       "      <td>...</td>\n",
       "      <td>0.0</td>\n",
       "      <td>0.0</td>\n",
       "      <td>0.0</td>\n",
       "      <td>0.0</td>\n",
       "      <td>0.0</td>\n",
       "      <td>0.0</td>\n",
       "      <td>0.0</td>\n",
       "      <td>1</td>\n",
       "      <td>6692</td>\n",
       "      <td>1</td>\n",
       "    </tr>\n",
       "    <tr>\n",
       "      <th>4</th>\n",
       "      <td>0.0</td>\n",
       "      <td>0.0</td>\n",
       "      <td>0.0</td>\n",
       "      <td>0.0</td>\n",
       "      <td>0.0</td>\n",
       "      <td>0.0</td>\n",
       "      <td>0.0</td>\n",
       "      <td>0.0</td>\n",
       "      <td>0.0</td>\n",
       "      <td>1.0</td>\n",
       "      <td>...</td>\n",
       "      <td>1.0</td>\n",
       "      <td>0.0</td>\n",
       "      <td>0.0</td>\n",
       "      <td>0.0</td>\n",
       "      <td>0.0</td>\n",
       "      <td>0.0</td>\n",
       "      <td>0.0</td>\n",
       "      <td>1</td>\n",
       "      <td>142590</td>\n",
       "      <td>1</td>\n",
       "    </tr>\n",
       "  </tbody>\n",
       "</table>\n",
       "<p>5 rows × 110 columns</p>\n",
       "</div>"
      ],
      "text/plain": [
       "   APPLICATION_TYPE_T12  APPLICATION_TYPE_T13  APPLICATION_TYPE_T14  \\\n",
       "0                   0.0                   0.0                   0.0   \n",
       "1                   0.0                   0.0                   0.0   \n",
       "2                   0.0                   0.0                   0.0   \n",
       "3                   0.0                   0.0                   0.0   \n",
       "4                   0.0                   0.0                   0.0   \n",
       "\n",
       "   APPLICATION_TYPE_T15  APPLICATION_TYPE_T17  APPLICATION_TYPE_T19  \\\n",
       "0                   0.0                   0.0                   0.0   \n",
       "1                   0.0                   0.0                   0.0   \n",
       "2                   0.0                   0.0                   0.0   \n",
       "3                   0.0                   0.0                   0.0   \n",
       "4                   0.0                   0.0                   0.0   \n",
       "\n",
       "   APPLICATION_TYPE_T2  APPLICATION_TYPE_T25  APPLICATION_TYPE_T29  \\\n",
       "0                  0.0                   0.0                   0.0   \n",
       "1                  0.0                   0.0                   0.0   \n",
       "2                  0.0                   0.0                   0.0   \n",
       "3                  0.0                   0.0                   0.0   \n",
       "4                  0.0                   0.0                   0.0   \n",
       "\n",
       "   APPLICATION_TYPE_T3  ...  INCOME_AMT_100000-499999  INCOME_AMT_10M-50M  \\\n",
       "0                  0.0  ...                       0.0                 0.0   \n",
       "1                  1.0  ...                       0.0                 0.0   \n",
       "2                  0.0  ...                       0.0                 0.0   \n",
       "3                  1.0  ...                       0.0                 0.0   \n",
       "4                  1.0  ...                       1.0                 0.0   \n",
       "\n",
       "   INCOME_AMT_1M-5M  INCOME_AMT_25000-99999  INCOME_AMT_50M+  \\\n",
       "0               0.0                     0.0              0.0   \n",
       "1               0.0                     0.0              0.0   \n",
       "2               0.0                     0.0              0.0   \n",
       "3               0.0                     0.0              0.0   \n",
       "4               0.0                     0.0              0.0   \n",
       "\n",
       "   INCOME_AMT_5M-10M  SPECIAL_CONSIDERATIONS_Y  STATUS  ASK_AMT  IS_SUCCESSFUL  \n",
       "0                0.0                       0.0       1     5000              1  \n",
       "1                0.0                       0.0       1   108590              1  \n",
       "2                0.0                       0.0       1     5000              0  \n",
       "3                0.0                       0.0       1     6692              1  \n",
       "4                0.0                       0.0       1   142590              1  \n",
       "\n",
       "[5 rows x 110 columns]"
      ]
     },
     "execution_count": 19,
     "metadata": {},
     "output_type": "execute_result"
    }
   ],
   "source": [
    "# Add the numerical variables from the original\n",
    "# DataFrame to the one-hot encoding DataFrame.\n",
    "encoded_df = pd.concat(\n",
    "    [\n",
    "        encoded_df,\n",
    "        applicant_data_df.drop(categorical_variables, axis=1)\n",
    "    ],\n",
    "    axis=1\n",
    ")\n",
    "\n",
    "# Review the Dataframe\n",
    "encoded_df.head()\n"
   ]
  },
  {
   "cell_type": "markdown",
   "metadata": {},
   "source": [
    "### Step 5: Using the preprocessed data, create the features (`X`) and target (`y`) datasets. The target dataset should be defined by the preprocessed DataFrame column “IS_SUCCESSFUL”. The remaining columns should define the features dataset. \n",
    "\n"
   ]
  },
  {
   "cell_type": "code",
   "execution_count": 20,
   "metadata": {
    "execution": {
     "iopub.execute_input": "2022-03-04T21:49:19.354328Z",
     "iopub.status.busy": "2022-03-04T21:49:19.353862Z",
     "iopub.status.idle": "2022-03-04T21:49:19.371542Z",
     "shell.execute_reply": "2022-03-04T21:49:19.364235Z",
     "shell.execute_reply.started": "2022-03-04T21:49:19.354260Z"
    }
   },
   "outputs": [
    {
     "data": {
      "text/plain": [
       "0    1\n",
       "1    1\n",
       "2    0\n",
       "3    1\n",
       "4    1\n",
       "Name: IS_SUCCESSFUL, dtype: int64"
      ]
     },
     "execution_count": 20,
     "metadata": {},
     "output_type": "execute_result"
    }
   ],
   "source": [
    "# Define the target set y using the IS_SUCCESSFUL column\n",
    "y = encoded_df['IS_SUCCESSFUL']\n",
    "\n",
    "# Display a sample of y\n",
    "y.head()\n"
   ]
  },
  {
   "cell_type": "code",
   "execution_count": 23,
   "metadata": {
    "execution": {
     "iopub.execute_input": "2022-03-04T21:50:25.907770Z",
     "iopub.status.busy": "2022-03-04T21:50:25.907423Z",
     "iopub.status.idle": "2022-03-04T21:50:30.642332Z",
     "shell.execute_reply": "2022-03-04T21:50:30.641269Z",
     "shell.execute_reply.started": "2022-03-04T21:50:25.907729Z"
    }
   },
   "outputs": [
    {
     "data": {
      "text/html": [
       "<div>\n",
       "<style scoped>\n",
       "    .dataframe tbody tr th:only-of-type {\n",
       "        vertical-align: middle;\n",
       "    }\n",
       "\n",
       "    .dataframe tbody tr th {\n",
       "        vertical-align: top;\n",
       "    }\n",
       "\n",
       "    .dataframe thead th {\n",
       "        text-align: right;\n",
       "    }\n",
       "</style>\n",
       "<table border=\"1\" class=\"dataframe\">\n",
       "  <thead>\n",
       "    <tr style=\"text-align: right;\">\n",
       "      <th></th>\n",
       "      <th>APPLICATION_TYPE_T12</th>\n",
       "      <th>APPLICATION_TYPE_T13</th>\n",
       "      <th>APPLICATION_TYPE_T14</th>\n",
       "      <th>APPLICATION_TYPE_T15</th>\n",
       "      <th>APPLICATION_TYPE_T17</th>\n",
       "      <th>APPLICATION_TYPE_T19</th>\n",
       "      <th>APPLICATION_TYPE_T2</th>\n",
       "      <th>APPLICATION_TYPE_T25</th>\n",
       "      <th>APPLICATION_TYPE_T29</th>\n",
       "      <th>APPLICATION_TYPE_T3</th>\n",
       "      <th>...</th>\n",
       "      <th>INCOME_AMT_10000-24999</th>\n",
       "      <th>INCOME_AMT_100000-499999</th>\n",
       "      <th>INCOME_AMT_10M-50M</th>\n",
       "      <th>INCOME_AMT_1M-5M</th>\n",
       "      <th>INCOME_AMT_25000-99999</th>\n",
       "      <th>INCOME_AMT_50M+</th>\n",
       "      <th>INCOME_AMT_5M-10M</th>\n",
       "      <th>SPECIAL_CONSIDERATIONS_Y</th>\n",
       "      <th>STATUS</th>\n",
       "      <th>ASK_AMT</th>\n",
       "    </tr>\n",
       "  </thead>\n",
       "  <tbody>\n",
       "    <tr>\n",
       "      <th>0</th>\n",
       "      <td>0.0</td>\n",
       "      <td>0.0</td>\n",
       "      <td>0.0</td>\n",
       "      <td>0.0</td>\n",
       "      <td>0.0</td>\n",
       "      <td>0.0</td>\n",
       "      <td>0.0</td>\n",
       "      <td>0.0</td>\n",
       "      <td>0.0</td>\n",
       "      <td>0.0</td>\n",
       "      <td>...</td>\n",
       "      <td>0.0</td>\n",
       "      <td>0.0</td>\n",
       "      <td>0.0</td>\n",
       "      <td>0.0</td>\n",
       "      <td>0.0</td>\n",
       "      <td>0.0</td>\n",
       "      <td>0.0</td>\n",
       "      <td>0.0</td>\n",
       "      <td>1</td>\n",
       "      <td>5000</td>\n",
       "    </tr>\n",
       "    <tr>\n",
       "      <th>1</th>\n",
       "      <td>0.0</td>\n",
       "      <td>0.0</td>\n",
       "      <td>0.0</td>\n",
       "      <td>0.0</td>\n",
       "      <td>0.0</td>\n",
       "      <td>0.0</td>\n",
       "      <td>0.0</td>\n",
       "      <td>0.0</td>\n",
       "      <td>0.0</td>\n",
       "      <td>1.0</td>\n",
       "      <td>...</td>\n",
       "      <td>0.0</td>\n",
       "      <td>0.0</td>\n",
       "      <td>0.0</td>\n",
       "      <td>0.0</td>\n",
       "      <td>0.0</td>\n",
       "      <td>0.0</td>\n",
       "      <td>0.0</td>\n",
       "      <td>0.0</td>\n",
       "      <td>1</td>\n",
       "      <td>108590</td>\n",
       "    </tr>\n",
       "    <tr>\n",
       "      <th>2</th>\n",
       "      <td>0.0</td>\n",
       "      <td>0.0</td>\n",
       "      <td>0.0</td>\n",
       "      <td>0.0</td>\n",
       "      <td>0.0</td>\n",
       "      <td>0.0</td>\n",
       "      <td>0.0</td>\n",
       "      <td>0.0</td>\n",
       "      <td>0.0</td>\n",
       "      <td>0.0</td>\n",
       "      <td>...</td>\n",
       "      <td>0.0</td>\n",
       "      <td>0.0</td>\n",
       "      <td>0.0</td>\n",
       "      <td>0.0</td>\n",
       "      <td>0.0</td>\n",
       "      <td>0.0</td>\n",
       "      <td>0.0</td>\n",
       "      <td>0.0</td>\n",
       "      <td>1</td>\n",
       "      <td>5000</td>\n",
       "    </tr>\n",
       "    <tr>\n",
       "      <th>3</th>\n",
       "      <td>0.0</td>\n",
       "      <td>0.0</td>\n",
       "      <td>0.0</td>\n",
       "      <td>0.0</td>\n",
       "      <td>0.0</td>\n",
       "      <td>0.0</td>\n",
       "      <td>0.0</td>\n",
       "      <td>0.0</td>\n",
       "      <td>0.0</td>\n",
       "      <td>1.0</td>\n",
       "      <td>...</td>\n",
       "      <td>1.0</td>\n",
       "      <td>0.0</td>\n",
       "      <td>0.0</td>\n",
       "      <td>0.0</td>\n",
       "      <td>0.0</td>\n",
       "      <td>0.0</td>\n",
       "      <td>0.0</td>\n",
       "      <td>0.0</td>\n",
       "      <td>1</td>\n",
       "      <td>6692</td>\n",
       "    </tr>\n",
       "    <tr>\n",
       "      <th>4</th>\n",
       "      <td>0.0</td>\n",
       "      <td>0.0</td>\n",
       "      <td>0.0</td>\n",
       "      <td>0.0</td>\n",
       "      <td>0.0</td>\n",
       "      <td>0.0</td>\n",
       "      <td>0.0</td>\n",
       "      <td>0.0</td>\n",
       "      <td>0.0</td>\n",
       "      <td>1.0</td>\n",
       "      <td>...</td>\n",
       "      <td>0.0</td>\n",
       "      <td>1.0</td>\n",
       "      <td>0.0</td>\n",
       "      <td>0.0</td>\n",
       "      <td>0.0</td>\n",
       "      <td>0.0</td>\n",
       "      <td>0.0</td>\n",
       "      <td>0.0</td>\n",
       "      <td>1</td>\n",
       "      <td>142590</td>\n",
       "    </tr>\n",
       "  </tbody>\n",
       "</table>\n",
       "<p>5 rows × 109 columns</p>\n",
       "</div>"
      ],
      "text/plain": [
       "   APPLICATION_TYPE_T12  APPLICATION_TYPE_T13  APPLICATION_TYPE_T14  \\\n",
       "0                   0.0                   0.0                   0.0   \n",
       "1                   0.0                   0.0                   0.0   \n",
       "2                   0.0                   0.0                   0.0   \n",
       "3                   0.0                   0.0                   0.0   \n",
       "4                   0.0                   0.0                   0.0   \n",
       "\n",
       "   APPLICATION_TYPE_T15  APPLICATION_TYPE_T17  APPLICATION_TYPE_T19  \\\n",
       "0                   0.0                   0.0                   0.0   \n",
       "1                   0.0                   0.0                   0.0   \n",
       "2                   0.0                   0.0                   0.0   \n",
       "3                   0.0                   0.0                   0.0   \n",
       "4                   0.0                   0.0                   0.0   \n",
       "\n",
       "   APPLICATION_TYPE_T2  APPLICATION_TYPE_T25  APPLICATION_TYPE_T29  \\\n",
       "0                  0.0                   0.0                   0.0   \n",
       "1                  0.0                   0.0                   0.0   \n",
       "2                  0.0                   0.0                   0.0   \n",
       "3                  0.0                   0.0                   0.0   \n",
       "4                  0.0                   0.0                   0.0   \n",
       "\n",
       "   APPLICATION_TYPE_T3  ...  INCOME_AMT_10000-24999  INCOME_AMT_100000-499999  \\\n",
       "0                  0.0  ...                     0.0                       0.0   \n",
       "1                  1.0  ...                     0.0                       0.0   \n",
       "2                  0.0  ...                     0.0                       0.0   \n",
       "3                  1.0  ...                     1.0                       0.0   \n",
       "4                  1.0  ...                     0.0                       1.0   \n",
       "\n",
       "   INCOME_AMT_10M-50M  INCOME_AMT_1M-5M  INCOME_AMT_25000-99999  \\\n",
       "0                 0.0               0.0                     0.0   \n",
       "1                 0.0               0.0                     0.0   \n",
       "2                 0.0               0.0                     0.0   \n",
       "3                 0.0               0.0                     0.0   \n",
       "4                 0.0               0.0                     0.0   \n",
       "\n",
       "   INCOME_AMT_50M+  INCOME_AMT_5M-10M  SPECIAL_CONSIDERATIONS_Y  STATUS  \\\n",
       "0              0.0                0.0                       0.0       1   \n",
       "1              0.0                0.0                       0.0       1   \n",
       "2              0.0                0.0                       0.0       1   \n",
       "3              0.0                0.0                       0.0       1   \n",
       "4              0.0                0.0                       0.0       1   \n",
       "\n",
       "   ASK_AMT  \n",
       "0     5000  \n",
       "1   108590  \n",
       "2     5000  \n",
       "3     6692  \n",
       "4   142590  \n",
       "\n",
       "[5 rows x 109 columns]"
      ]
     },
     "execution_count": 23,
     "metadata": {},
     "output_type": "execute_result"
    }
   ],
   "source": [
    "# Define features set X by selecting all columns but IS_SUCCESSFUL\n",
    "X = encoded_df.iloc[:, :-1]\n",
    "\n",
    "# Review the features DataFrame\n",
    "X.head()\n"
   ]
  },
  {
   "cell_type": "markdown",
   "metadata": {},
   "source": [
    "### Step 6: Split the features and target sets into training and testing datasets.\n"
   ]
  },
  {
   "cell_type": "code",
   "execution_count": 24,
   "metadata": {
    "execution": {
     "iopub.execute_input": "2022-03-04T21:51:04.144269Z",
     "iopub.status.busy": "2022-03-04T21:51:04.143934Z",
     "iopub.status.idle": "2022-03-04T21:51:06.095649Z",
     "shell.execute_reply": "2022-03-04T21:51:06.094411Z",
     "shell.execute_reply.started": "2022-03-04T21:51:04.144231Z"
    }
   },
   "outputs": [],
   "source": [
    "# Split the preprocessed data into a training and testing dataset\n",
    "# Assign the function a random_state equal to 1\n",
    "X_train, X_test, y_train, y_test = train_test_split(X, y, random_state=1)\n"
   ]
  },
  {
   "cell_type": "markdown",
   "metadata": {},
   "source": [
    "### Step 7: Use scikit-learn's `StandardScaler` to scale the features data."
   ]
  },
  {
   "cell_type": "code",
   "execution_count": 25,
   "metadata": {
    "execution": {
     "iopub.execute_input": "2022-03-04T21:52:02.632139Z",
     "iopub.status.busy": "2022-03-04T21:52:02.631787Z",
     "iopub.status.idle": "2022-03-04T21:52:04.844160Z",
     "shell.execute_reply": "2022-03-04T21:52:04.842761Z",
     "shell.execute_reply.started": "2022-03-04T21:52:02.632109Z"
    }
   },
   "outputs": [],
   "source": [
    "# Create a StandardScaler instance\n",
    "scaler = StandardScaler()\n",
    "\n",
    "# Fit the scaler to the features training dataset\n",
    "X_scaler = scaler.fit(X_train)\n",
    "\n",
    "# Fit the scaler to the features training dataset\n",
    "X_train_scaled = X_scaler.transform(X_train)\n",
    "X_test_scaled = X_scaler.transform(X_test)\n"
   ]
  },
  {
   "cell_type": "markdown",
   "metadata": {},
   "source": [
    "---\n",
    "\n",
    "## Compile and Evaluate a Binary Classification Model Using a Neural Network"
   ]
  },
  {
   "cell_type": "markdown",
   "metadata": {},
   "source": [
    "### Step 1: Create a deep neural network by assigning the number of input features, the number of layers, and the number of neurons on each layer using Tensorflow’s Keras.\n",
    "\n",
    "> **Hint** You can start with a two-layer deep neural network model that uses the `relu` activation function for both layers.\n"
   ]
  },
  {
   "cell_type": "markdown",
   "metadata": {},
   "source": [
    "### Base NN, 55/28/1"
   ]
  },
  {
   "cell_type": "code",
   "execution_count": 27,
   "metadata": {
    "execution": {
     "iopub.execute_input": "2022-03-04T21:52:46.309785Z",
     "iopub.status.busy": "2022-03-04T21:52:46.309468Z",
     "iopub.status.idle": "2022-03-04T21:52:46.318602Z",
     "shell.execute_reply": "2022-03-04T21:52:46.317204Z",
     "shell.execute_reply.started": "2022-03-04T21:52:46.309748Z"
    }
   },
   "outputs": [
    {
     "data": {
      "text/plain": [
       "109"
      ]
     },
     "execution_count": 27,
     "metadata": {},
     "output_type": "execute_result"
    }
   ],
   "source": [
    "# Define the the number of inputs (features) to the model\n",
    "number_input_features = X.shape[1]\n",
    "\n",
    "# Review the number of features\n",
    "number_input_features\n"
   ]
  },
  {
   "cell_type": "code",
   "execution_count": 28,
   "metadata": {
    "execution": {
     "iopub.execute_input": "2022-03-04T21:53:32.677865Z",
     "iopub.status.busy": "2022-03-04T21:53:32.677360Z",
     "iopub.status.idle": "2022-03-04T21:53:32.693458Z",
     "shell.execute_reply": "2022-03-04T21:53:32.690553Z",
     "shell.execute_reply.started": "2022-03-04T21:53:32.677820Z"
    }
   },
   "outputs": [
    {
     "data": {
      "text/plain": [
       "55"
      ]
     },
     "execution_count": 28,
     "metadata": {},
     "output_type": "execute_result"
    }
   ],
   "source": [
    "# Define the number of neurons in the output layer\n",
    "number_output_neurons = 1\n",
    "\n",
    "# Define the number of hidden nodes for the first hidden layer\n",
    "hidden_nodes_layer1 =  (number_input_features + number_output_neurons) // 2\n",
    "\n",
    "# Review the number hidden nodes in the first layer\n",
    "hidden_nodes_layer1\n"
   ]
  },
  {
   "cell_type": "code",
   "execution_count": 29,
   "metadata": {
    "execution": {
     "iopub.execute_input": "2022-03-04T21:53:58.303766Z",
     "iopub.status.busy": "2022-03-04T21:53:58.302918Z",
     "iopub.status.idle": "2022-03-04T21:53:58.315164Z",
     "shell.execute_reply": "2022-03-04T21:53:58.313165Z",
     "shell.execute_reply.started": "2022-03-04T21:53:58.303732Z"
    }
   },
   "outputs": [
    {
     "data": {
      "text/plain": [
       "28"
      ]
     },
     "execution_count": 29,
     "metadata": {},
     "output_type": "execute_result"
    }
   ],
   "source": [
    "# Define the number of hidden nodes for the second hidden layer\n",
    "hidden_nodes_layer2 =  (hidden_nodes_layer1 + number_output_neurons) // 2\n",
    "\n",
    "# Review the number hidden nodes in the second layer\n",
    "hidden_nodes_layer2\n"
   ]
  },
  {
   "cell_type": "code",
   "execution_count": 43,
   "metadata": {
    "execution": {
     "iopub.execute_input": "2022-03-05T15:05:58.799775Z",
     "iopub.status.busy": "2022-03-05T15:05:58.799416Z",
     "iopub.status.idle": "2022-03-05T15:05:58.889315Z",
     "shell.execute_reply": "2022-03-05T15:05:58.886753Z",
     "shell.execute_reply.started": "2022-03-05T15:05:58.799732Z"
    },
    "tags": []
   },
   "outputs": [
    {
     "name": "stdout",
     "output_type": "stream",
     "text": [
      "Model: \"sequential_1\"\n",
      "_________________________________________________________________\n",
      " Layer (type)                Output Shape              Param #   \n",
      "=================================================================\n",
      " dense_3 (Dense)             (None, 55)                6050      \n",
      "                                                                 \n",
      " dense_4 (Dense)             (None, 28)                1568      \n",
      "                                                                 \n",
      " dense_5 (Dense)             (None, 1)                 29        \n",
      "                                                                 \n",
      "=================================================================\n",
      "Total params: 7,647\n",
      "Trainable params: 7,647\n",
      "Non-trainable params: 0\n",
      "_________________________________________________________________\n"
     ]
    }
   ],
   "source": [
    "# Create the Sequential model instance\n",
    "nn = Sequential()\n",
    "\n",
    "# Add the first hidden layer\n",
    "nn.add(Dense(\n",
    "    input_dim=number_input_features,\n",
    "    units=hidden_nodes_layer1,\n",
    "    activation='relu'\n",
    "))\n",
    "\n",
    "\n",
    "# Add the second hidden layer\n",
    "nn.add(Dense(\n",
    "    units=hidden_nodes_layer2,\n",
    "    activation='relu'\n",
    "))\n",
    "\n",
    "\n",
    "# Add the output layer to the model specifying the number of output neurons and activation function\n",
    "nn.add(Dense(\n",
    "    units=number_output_neurons,\n",
    "    activation='sigmoid'\n",
    "))\n",
    "\n",
    "\n",
    "# Display the Sequential model summary\n",
    "nn.summary()\n"
   ]
  },
  {
   "cell_type": "markdown",
   "metadata": {},
   "source": [
    "### Step 2: Compile and fit the model using the `binary_crossentropy` loss function, the `adam` optimizer, and the `accuracy` evaluation metric.\n"
   ]
  },
  {
   "cell_type": "code",
   "execution_count": 37,
   "metadata": {
    "execution": {
     "iopub.execute_input": "2022-03-04T22:05:37.724939Z",
     "iopub.status.busy": "2022-03-04T22:05:37.724576Z",
     "iopub.status.idle": "2022-03-04T22:07:32.042477Z",
     "shell.execute_reply": "2022-03-04T22:07:32.041313Z",
     "shell.execute_reply.started": "2022-03-04T22:05:37.724892Z"
    },
    "tags": []
   },
   "outputs": [
    {
     "name": "stdout",
     "output_type": "stream",
     "text": [
      "Epoch 1/50\n",
      "804/804 [==============================] - 3s 3ms/step - loss: 0.5348 - accuracy: 0.7392\n",
      "Epoch 2/50\n",
      "804/804 [==============================] - 2s 3ms/step - loss: 0.5343 - accuracy: 0.7394\n",
      "Epoch 3/50\n",
      "804/804 [==============================] - 2s 3ms/step - loss: 0.5338 - accuracy: 0.7401\n",
      "Epoch 4/50\n",
      "804/804 [==============================] - 2s 3ms/step - loss: 0.5336 - accuracy: 0.7387\n",
      "Epoch 5/50\n",
      "804/804 [==============================] - 2s 3ms/step - loss: 0.5333 - accuracy: 0.7404\n",
      "Epoch 6/50\n",
      "804/804 [==============================] - 2s 3ms/step - loss: 0.5336 - accuracy: 0.7402\n",
      "Epoch 7/50\n",
      "804/804 [==============================] - 2s 3ms/step - loss: 0.5335 - accuracy: 0.7393\n",
      "Epoch 8/50\n",
      "804/804 [==============================] - 2s 3ms/step - loss: 0.5335 - accuracy: 0.7397\n",
      "Epoch 9/50\n",
      "804/804 [==============================] - 2s 3ms/step - loss: 0.5332 - accuracy: 0.7401\n",
      "Epoch 10/50\n",
      "804/804 [==============================] - 2s 3ms/step - loss: 0.5334 - accuracy: 0.7395\n",
      "Epoch 11/50\n",
      "804/804 [==============================] - 2s 3ms/step - loss: 0.5328 - accuracy: 0.7390\n",
      "Epoch 12/50\n",
      "804/804 [==============================] - 2s 3ms/step - loss: 0.5328 - accuracy: 0.7408\n",
      "Epoch 13/50\n",
      "804/804 [==============================] - 2s 3ms/step - loss: 0.5327 - accuracy: 0.7399\n",
      "Epoch 14/50\n",
      "804/804 [==============================] - 2s 3ms/step - loss: 0.5330 - accuracy: 0.7407\n",
      "Epoch 15/50\n",
      "804/804 [==============================] - 2s 3ms/step - loss: 0.5324 - accuracy: 0.7407\n",
      "Epoch 16/50\n",
      "804/804 [==============================] - 2s 3ms/step - loss: 0.5324 - accuracy: 0.7405\n",
      "Epoch 17/50\n",
      "804/804 [==============================] - 2s 3ms/step - loss: 0.5321 - accuracy: 0.7412\n",
      "Epoch 18/50\n",
      "804/804 [==============================] - 2s 3ms/step - loss: 0.5326 - accuracy: 0.7411\n",
      "Epoch 19/50\n",
      "804/804 [==============================] - 2s 3ms/step - loss: 0.5323 - accuracy: 0.7409\n",
      "Epoch 20/50\n",
      "804/804 [==============================] - 2s 3ms/step - loss: 0.5321 - accuracy: 0.7389\n",
      "Epoch 21/50\n",
      "804/804 [==============================] - 2s 3ms/step - loss: 0.5320 - accuracy: 0.7405\n",
      "Epoch 22/50\n",
      "804/804 [==============================] - 2s 3ms/step - loss: 0.5316 - accuracy: 0.7408\n",
      "Epoch 23/50\n",
      "804/804 [==============================] - 2s 3ms/step - loss: 0.5316 - accuracy: 0.7399\n",
      "Epoch 24/50\n",
      "804/804 [==============================] - 2s 3ms/step - loss: 0.5316 - accuracy: 0.7408\n",
      "Epoch 25/50\n",
      "804/804 [==============================] - 2s 3ms/step - loss: 0.5317 - accuracy: 0.7412\n",
      "Epoch 26/50\n",
      "804/804 [==============================] - 2s 3ms/step - loss: 0.5317 - accuracy: 0.7405\n",
      "Epoch 27/50\n",
      "804/804 [==============================] - 2s 3ms/step - loss: 0.5317 - accuracy: 0.7409\n",
      "Epoch 28/50\n",
      "804/804 [==============================] - 3s 3ms/step - loss: 0.5312 - accuracy: 0.7417\n",
      "Epoch 29/50\n",
      "804/804 [==============================] - 2s 3ms/step - loss: 0.5312 - accuracy: 0.7406\n",
      "Epoch 30/50\n",
      "804/804 [==============================] - 2s 3ms/step - loss: 0.5313 - accuracy: 0.7411\n",
      "Epoch 31/50\n",
      "804/804 [==============================] - 2s 3ms/step - loss: 0.5308 - accuracy: 0.7410\n",
      "Epoch 32/50\n",
      "804/804 [==============================] - 2s 3ms/step - loss: 0.5309 - accuracy: 0.7404\n",
      "Epoch 33/50\n",
      "804/804 [==============================] - 2s 3ms/step - loss: 0.5308 - accuracy: 0.7411\n",
      "Epoch 34/50\n",
      "804/804 [==============================] - 2s 3ms/step - loss: 0.5302 - accuracy: 0.7413\n",
      "Epoch 35/50\n",
      "804/804 [==============================] - 2s 3ms/step - loss: 0.5306 - accuracy: 0.7409\n",
      "Epoch 36/50\n",
      "804/804 [==============================] - 2s 3ms/step - loss: 0.5304 - accuracy: 0.7418\n",
      "Epoch 37/50\n",
      "804/804 [==============================] - 2s 3ms/step - loss: 0.5308 - accuracy: 0.7411\n",
      "Epoch 38/50\n",
      "804/804 [==============================] - 2s 3ms/step - loss: 0.5302 - accuracy: 0.7420\n",
      "Epoch 39/50\n",
      "804/804 [==============================] - 2s 3ms/step - loss: 0.5306 - accuracy: 0.7405\n",
      "Epoch 40/50\n",
      "804/804 [==============================] - 2s 3ms/step - loss: 0.5305 - accuracy: 0.7419\n",
      "Epoch 41/50\n",
      "804/804 [==============================] - 2s 3ms/step - loss: 0.5303 - accuracy: 0.7412\n",
      "Epoch 42/50\n",
      "804/804 [==============================] - 2s 3ms/step - loss: 0.5303 - accuracy: 0.7410\n",
      "Epoch 43/50\n",
      "804/804 [==============================] - 2s 3ms/step - loss: 0.5301 - accuracy: 0.7402\n",
      "Epoch 44/50\n",
      "804/804 [==============================] - 3s 3ms/step - loss: 0.5301 - accuracy: 0.7420\n",
      "Epoch 45/50\n",
      "804/804 [==============================] - 3s 4ms/step - loss: 0.5299 - accuracy: 0.7423\n",
      "Epoch 46/50\n",
      "804/804 [==============================] - 2s 3ms/step - loss: 0.5301 - accuracy: 0.7413\n",
      "Epoch 47/50\n",
      "804/804 [==============================] - 2s 3ms/step - loss: 0.5299 - accuracy: 0.7419\n",
      "Epoch 48/50\n",
      "804/804 [==============================] - 3s 3ms/step - loss: 0.5299 - accuracy: 0.7405\n",
      "Epoch 49/50\n",
      "804/804 [==============================] - 3s 3ms/step - loss: 0.5293 - accuracy: 0.7412\n",
      "Epoch 50/50\n",
      "804/804 [==============================] - 3s 3ms/step - loss: 0.5300 - accuracy: 0.7419\n"
     ]
    }
   ],
   "source": [
    "# Compile the Sequential model\n",
    "nn.compile(\n",
    "    loss='binary_crossentropy',\n",
    "    optimizer='adam',\n",
    "    metrics=['accuracy']\n",
    ")\n",
    "\n",
    "# Fit the model using 50 epochs and the training data\n",
    "model1 = nn.fit(X_train_scaled, y_train, epochs=50)\n"
   ]
  },
  {
   "cell_type": "markdown",
   "metadata": {},
   "source": [
    "### Step 3: Evaluate the model using the test data to determine the model’s loss and accuracy.\n"
   ]
  },
  {
   "cell_type": "code",
   "execution_count": 38,
   "metadata": {
    "execution": {
     "iopub.execute_input": "2022-03-04T22:07:32.045423Z",
     "iopub.status.busy": "2022-03-04T22:07:32.045066Z",
     "iopub.status.idle": "2022-03-04T22:07:32.670583Z",
     "shell.execute_reply": "2022-03-04T22:07:32.668924Z",
     "shell.execute_reply.started": "2022-03-04T22:07:32.045344Z"
    },
    "tags": []
   },
   "outputs": [
    {
     "name": "stdout",
     "output_type": "stream",
     "text": [
      "268/268 - 1s - loss: 0.5573 - accuracy: 0.7279 - 568ms/epoch - 2ms/step\n",
      "Loss: 0.5573362112045288, Accuracy: 0.7279300093650818\n"
     ]
    }
   ],
   "source": [
    "# Evaluate the model loss and accuracy metrics\n",
    "# using the evaluate method and the test data.\n",
    "model_loss, model_accuracy = nn.evaluate(X_test_scaled, y_test, verbose=2)\n",
    "\n",
    "# Display the model loss and accuracy results\n",
    "print(f\"Loss: {model_loss}, Accuracy: {model_accuracy}\")"
   ]
  },
  {
   "cell_type": "code",
   "execution_count": 41,
   "metadata": {
    "execution": {
     "iopub.execute_input": "2022-03-04T22:08:09.534456Z",
     "iopub.status.busy": "2022-03-04T22:08:09.534072Z",
     "iopub.status.idle": "2022-03-04T22:08:10.660664Z",
     "shell.execute_reply": "2022-03-04T22:08:10.659758Z",
     "shell.execute_reply.started": "2022-03-04T22:08:09.534405Z"
    },
    "tags": []
   },
   "outputs": [
    {
     "data": {
      "image/png": "[encoded data removed]",
      "text/plain": [
       "<Figure size 648x360 with 1 Axes>"
      ]
     },
     "metadata": {
      "needs_background": "light"
     },
     "output_type": "display_data"
    },
    {
     "data": {
      "image/png": "[encoded data removed]",
      "text/plain": [
       "<Figure size 648x360 with 1 Axes>"
      ]
     },
     "metadata": {
      "needs_background": "light"
     },
     "output_type": "display_data"
    }
   ],
   "source": [
    "# Create a DataFrame with the history dictionary.\n",
    "model1_resutls_df = pd.DataFrame(\n",
    "    model1.history,\n",
    "    index=range(1, len(model1.history['loss']) + 1)\n",
    ")\n",
    "\n",
    "# Plot the loss data.\n",
    "model1_resutls_df.plot(\n",
    "    y='loss',\n",
    "    figsize=(9, 5),\n",
    "    title=\"Loss vs Epochs\",\n",
    "    ylabel='Loss',\n",
    "    xlabel='Epoch'\n",
    ");\n",
    "\n",
    "# Plot the accuracy data.\n",
    "model1_resutls_df.plot(\n",
    "    y='accuracy',\n",
    "    figsize=(9, 5),\n",
    "    title='Accuracy vs Epochs',\n",
    "    ylabel='Accuracy',\n",
    "    xlabel='Epoch'\n",
    ");"
   ]
  },
  {
   "cell_type": "markdown",
   "metadata": {
    "tags": []
   },
   "source": [
    "### Step 4: Save and export your model to an HDF5 file, and name the file `AlphabetSoup.h5`. \n"
   ]
  },
  {
   "cell_type": "code",
   "execution_count": 81,
   "metadata": {
    "execution": {
     "iopub.execute_input": "2022-03-05T19:41:34.447518Z",
     "iopub.status.busy": "2022-03-05T19:41:34.447253Z",
     "iopub.status.idle": "2022-03-05T19:41:34.533138Z",
     "shell.execute_reply": "2022-03-05T19:41:34.532381Z",
     "shell.execute_reply.started": "2022-03-05T19:41:34.447487Z"
    },
    "tags": []
   },
   "outputs": [
    {
     "name": "stdout",
     "output_type": "stream",
     "text": [
      "WARNING:tensorflow:Compiled the loaded model, but the compiled metrics have yet to be built. `model.compile_metrics` will be empty until you train or evaluate the model.\n"
     ]
    }
   ],
   "source": [
    "# Set the model's file path\n",
    "file_path = \"Resources/applicant_success_model1.h5\"\n",
    "\n",
    "# Export your model to a HDF5 file\n",
    "nn.save(file_path)\n"
   ]
  },
  {
   "cell_type": "markdown",
   "metadata": {},
   "source": [
    "---\n",
    "\n",
    "## Optimize the neural network model\n"
   ]
  },
  {
   "cell_type": "markdown",
   "metadata": {},
   "source": [
    "### Step 1: Define at least three new deep neural network models (resulting in the original plus 3 optimization attempts). With each, try to improve on your first model’s predictive accuracy.\n",
    "\n",
    "> **Rewind** Recall that perfect accuracy has a value of 1, so accuracy improves as its value moves closer to 1. To optimize your model for a predictive accuracy as close to 1 as possible, you can use any or all of the following techniques:\n",
    ">\n",
    "> * Adjust the input data by dropping different features columns to ensure that no variables or outliers confuse the model.\n",
    ">\n",
    "> * Add more neurons (nodes) to a hidden layer.\n",
    ">\n",
    "> * Add more hidden layers.\n",
    ">\n",
    "> * Use different activation functions for the hidden layers.\n",
    ">\n",
    "> * Add to or reduce the number of epochs in the training regimen.\n"
   ]
  },
  {
   "cell_type": "markdown",
   "metadata": {},
   "source": [
    "### Alternative NN 1 - 110/74/1  \n",
    "Add one node to the input for bias, reduce nodes in each subsequent layer by 1/3 instead of 1/2, increase epochs by 50%."
   ]
  },
  {
   "cell_type": "code",
   "execution_count": 52,
   "metadata": {
    "execution": {
     "iopub.execute_input": "2022-03-05T15:21:12.574302Z",
     "iopub.status.busy": "2022-03-05T15:21:12.573866Z",
     "iopub.status.idle": "2022-03-05T15:21:12.584260Z",
     "shell.execute_reply": "2022-03-05T15:21:12.583228Z",
     "shell.execute_reply.started": "2022-03-05T15:21:12.574270Z"
    },
    "tags": []
   },
   "outputs": [
    {
     "data": {
      "text/plain": [
       "109"
      ]
     },
     "execution_count": 52,
     "metadata": {},
     "output_type": "execute_result"
    }
   ],
   "source": [
    "# Define the the number of inputs (features) to the model\n",
    "number_input_features = len(X_train.iloc[0])\n",
    "\n",
    "# Review the number of features\n",
    "number_input_features"
   ]
  },
  {
   "cell_type": "code",
   "execution_count": 45,
   "metadata": {
    "execution": {
     "iopub.execute_input": "2022-03-05T15:09:39.605579Z",
     "iopub.status.busy": "2022-03-05T15:09:39.605283Z",
     "iopub.status.idle": "2022-03-05T15:09:39.613817Z",
     "shell.execute_reply": "2022-03-05T15:09:39.611933Z",
     "shell.execute_reply.started": "2022-03-05T15:09:39.605543Z"
    }
   },
   "outputs": [],
   "source": [
    "# Define the number of neurons in the output layer\n",
    "number_output_neurons_A1 = 1"
   ]
  },
  {
   "cell_type": "code",
   "execution_count": 54,
   "metadata": {
    "execution": {
     "iopub.execute_input": "2022-03-05T15:22:00.680438Z",
     "iopub.status.busy": "2022-03-05T15:22:00.679933Z",
     "iopub.status.idle": "2022-03-05T15:22:00.689497Z",
     "shell.execute_reply": "2022-03-05T15:22:00.687753Z",
     "shell.execute_reply.started": "2022-03-05T15:22:00.680407Z"
    },
    "tags": []
   },
   "outputs": [
    {
     "data": {
      "text/plain": [
       "110"
      ]
     },
     "execution_count": 54,
     "metadata": {},
     "output_type": "execute_result"
    }
   ],
   "source": [
    "# Define the number of hidden nodes for the first hidden layer\n",
    "hidden_nodes_layer1_A1 = number_input_features + 1\n",
    "\n",
    "# Review the number of hidden nodes in the first layer\n",
    "hidden_nodes_layer1_A1"
   ]
  },
  {
   "cell_type": "code",
   "execution_count": 55,
   "metadata": {
    "execution": {
     "iopub.execute_input": "2022-03-05T15:22:02.120268Z",
     "iopub.status.busy": "2022-03-05T15:22:02.119970Z",
     "iopub.status.idle": "2022-03-05T15:22:02.128075Z",
     "shell.execute_reply": "2022-03-05T15:22:02.127233Z",
     "shell.execute_reply.started": "2022-03-05T15:22:02.120232Z"
    },
    "tags": []
   },
   "outputs": [
    {
     "data": {
      "text/plain": [
       "74.0"
      ]
     },
     "execution_count": 55,
     "metadata": {},
     "output_type": "execute_result"
    }
   ],
   "source": [
    "# Define the number of hidden nodes for the second hidden layer\n",
    "hidden_nodes_layer2_A1 = \\\n",
    "    (hidden_nodes_layer1_A1 + number_output_neurons) * (2/3)\n",
    "\n",
    "# Review the number of hidden nodes in the first layer\n",
    "hidden_nodes_layer2_A1"
   ]
  },
  {
   "cell_type": "code",
   "execution_count": 56,
   "metadata": {
    "execution": {
     "iopub.execute_input": "2022-03-05T15:22:24.405843Z",
     "iopub.status.busy": "2022-03-05T15:22:24.405294Z",
     "iopub.status.idle": "2022-03-05T15:22:24.502542Z",
     "shell.execute_reply": "2022-03-05T15:22:24.500064Z",
     "shell.execute_reply.started": "2022-03-05T15:22:24.405698Z"
    },
    "tags": []
   },
   "outputs": [
    {
     "name": "stdout",
     "output_type": "stream",
     "text": [
      "Model: \"sequential_3\"\n",
      "_________________________________________________________________\n",
      " Layer (type)                Output Shape              Param #   \n",
      "=================================================================\n",
      " dense_9 (Dense)             (None, 110)               12100     \n",
      "                                                                 \n",
      " dense_10 (Dense)            (None, 74)                8214      \n",
      "                                                                 \n",
      " dense_11 (Dense)            (None, 1)                 75        \n",
      "                                                                 \n",
      "=================================================================\n",
      "Total params: 20,389\n",
      "Trainable params: 20,389\n",
      "Non-trainable params: 0\n",
      "_________________________________________________________________\n"
     ]
    }
   ],
   "source": [
    "# Create the Sequential model instance\n",
    "nn_A1 = Sequential()\n",
    "\n",
    "# First hidden layer\n",
    "nn_A1.add(Dense(\n",
    "    input_dim=number_input_features,\n",
    "    units=hidden_nodes_layer1_A1,\n",
    "    activation='relu'\n",
    "))\n",
    "\n",
    "# Second hidden layer\n",
    "nn_A1.add(Dense(\n",
    "    units=hidden_nodes_layer2_A1,\n",
    "    activation='relu'\n",
    "))\n",
    "\n",
    "# Output layer\n",
    "nn_A1.add(Dense(\n",
    "    units=number_output_neurons_A1,\n",
    "    activation='sigmoid'\n",
    "))\n",
    "\n",
    "# Check the structure of the model\n",
    "nn_A1.summary()"
   ]
  },
  {
   "cell_type": "code",
   "execution_count": 57,
   "metadata": {
    "collapsed": true,
    "execution": {
     "iopub.execute_input": "2022-03-05T15:22:28.036198Z",
     "iopub.status.busy": "2022-03-05T15:22:28.035896Z",
     "iopub.status.idle": "2022-03-05T15:25:50.776943Z",
     "shell.execute_reply": "2022-03-05T15:25:50.775305Z",
     "shell.execute_reply.started": "2022-03-05T15:22:28.036166Z"
    },
    "jupyter": {
     "outputs_hidden": true
    },
    "tags": []
   },
   "outputs": [
    {
     "name": "stdout",
     "output_type": "stream",
     "text": [
      "Epoch 1/75\n",
      "804/804 [==============================] - 3s 4ms/step - loss: 0.5777 - accuracy: 0.7189\n",
      "Epoch 2/75\n",
      "804/804 [==============================] - 3s 3ms/step - loss: 0.5545 - accuracy: 0.7268\n",
      "Epoch 3/75\n",
      "804/804 [==============================] - 2s 3ms/step - loss: 0.5509 - accuracy: 0.7295\n",
      "Epoch 4/75\n",
      "804/804 [==============================] - 2s 3ms/step - loss: 0.5475 - accuracy: 0.7330\n",
      "Epoch 5/75\n",
      "804/804 [==============================] - 2s 3ms/step - loss: 0.5460 - accuracy: 0.7322\n",
      "Epoch 6/75\n",
      "804/804 [==============================] - 2s 3ms/step - loss: 0.5450 - accuracy: 0.7336\n",
      "Epoch 7/75\n",
      "804/804 [==============================] - 2s 3ms/step - loss: 0.5447 - accuracy: 0.7328\n",
      "Epoch 8/75\n",
      "804/804 [==============================] - 2s 3ms/step - loss: 0.5432 - accuracy: 0.7339\n",
      "Epoch 9/75\n",
      "804/804 [==============================] - 2s 3ms/step - loss: 0.5428 - accuracy: 0.7349\n",
      "Epoch 10/75\n",
      "804/804 [==============================] - 2s 3ms/step - loss: 0.5428 - accuracy: 0.7337\n",
      "Epoch 11/75\n",
      "804/804 [==============================] - 2s 3ms/step - loss: 0.5414 - accuracy: 0.7355\n",
      "Epoch 12/75\n",
      "804/804 [==============================] - 3s 3ms/step - loss: 0.5414 - accuracy: 0.7355\n",
      "Epoch 13/75\n",
      "804/804 [==============================] - 2s 3ms/step - loss: 0.5406 - accuracy: 0.7365\n",
      "Epoch 14/75\n",
      "804/804 [==============================] - 3s 4ms/step - loss: 0.5403 - accuracy: 0.7369\n",
      "Epoch 15/75\n",
      "804/804 [==============================] - 3s 4ms/step - loss: 0.5399 - accuracy: 0.7366\n",
      "Epoch 16/75\n",
      "804/804 [==============================] - 3s 3ms/step - loss: 0.5396 - accuracy: 0.7351\n",
      "Epoch 17/75\n",
      "804/804 [==============================] - 3s 4ms/step - loss: 0.5393 - accuracy: 0.7375\n",
      "Epoch 18/75\n",
      "804/804 [==============================] - 3s 3ms/step - loss: 0.5387 - accuracy: 0.7370\n",
      "Epoch 19/75\n",
      "804/804 [==============================] - 3s 3ms/step - loss: 0.5383 - accuracy: 0.7364\n",
      "Epoch 20/75\n",
      "804/804 [==============================] - 4s 4ms/step - loss: 0.5383 - accuracy: 0.7368\n",
      "Epoch 21/75\n",
      "804/804 [==============================] - 3s 3ms/step - loss: 0.5385 - accuracy: 0.7375\n",
      "Epoch 22/75\n",
      "804/804 [==============================] - 3s 4ms/step - loss: 0.5376 - accuracy: 0.7382\n",
      "Epoch 23/75\n",
      "804/804 [==============================] - 2s 3ms/step - loss: 0.5379 - accuracy: 0.7378\n",
      "Epoch 24/75\n",
      "804/804 [==============================] - 2s 3ms/step - loss: 0.5373 - accuracy: 0.7379\n",
      "Epoch 25/75\n",
      "804/804 [==============================] - 2s 3ms/step - loss: 0.5370 - accuracy: 0.7381\n",
      "Epoch 26/75\n",
      "804/804 [==============================] - 2s 3ms/step - loss: 0.5368 - accuracy: 0.7382\n",
      "Epoch 27/75\n",
      "804/804 [==============================] - 2s 3ms/step - loss: 0.5365 - accuracy: 0.7390\n",
      "Epoch 28/75\n",
      "804/804 [==============================] - 2s 3ms/step - loss: 0.5362 - accuracy: 0.7391\n",
      "Epoch 29/75\n",
      "804/804 [==============================] - 2s 3ms/step - loss: 0.5362 - accuracy: 0.7377\n",
      "Epoch 30/75\n",
      "804/804 [==============================] - 2s 3ms/step - loss: 0.5357 - accuracy: 0.7385\n",
      "Epoch 31/75\n",
      "804/804 [==============================] - 2s 3ms/step - loss: 0.5359 - accuracy: 0.7384\n",
      "Epoch 32/75\n",
      "804/804 [==============================] - 3s 3ms/step - loss: 0.5357 - accuracy: 0.7384\n",
      "Epoch 33/75\n",
      "804/804 [==============================] - 3s 3ms/step - loss: 0.5353 - accuracy: 0.7389\n",
      "Epoch 34/75\n",
      "804/804 [==============================] - 3s 4ms/step - loss: 0.5346 - accuracy: 0.7396\n",
      "Epoch 35/75\n",
      "804/804 [==============================] - 3s 3ms/step - loss: 0.5349 - accuracy: 0.7388\n",
      "Epoch 36/75\n",
      "804/804 [==============================] - 3s 4ms/step - loss: 0.5347 - accuracy: 0.7393\n",
      "Epoch 37/75\n",
      "804/804 [==============================] - 5s 6ms/step - loss: 0.5343 - accuracy: 0.7405\n",
      "Epoch 38/75\n",
      "804/804 [==============================] - 3s 3ms/step - loss: 0.5342 - accuracy: 0.7397\n",
      "Epoch 39/75\n",
      "804/804 [==============================] - 3s 4ms/step - loss: 0.5340 - accuracy: 0.7404\n",
      "Epoch 40/75\n",
      "804/804 [==============================] - 2s 3ms/step - loss: 0.5340 - accuracy: 0.7399\n",
      "Epoch 41/75\n",
      "804/804 [==============================] - 2s 3ms/step - loss: 0.5335 - accuracy: 0.7398\n",
      "Epoch 42/75\n",
      "804/804 [==============================] - 2s 3ms/step - loss: 0.5338 - accuracy: 0.7401\n",
      "Epoch 43/75\n",
      "804/804 [==============================] - 2s 3ms/step - loss: 0.5330 - accuracy: 0.7401\n",
      "Epoch 44/75\n",
      "804/804 [==============================] - 2s 3ms/step - loss: 0.5332 - accuracy: 0.7410\n",
      "Epoch 45/75\n",
      "804/804 [==============================] - 2s 3ms/step - loss: 0.5328 - accuracy: 0.7402\n",
      "Epoch 46/75\n",
      "804/804 [==============================] - 2s 3ms/step - loss: 0.5341 - accuracy: 0.7410\n",
      "Epoch 47/75\n",
      "804/804 [==============================] - 2s 3ms/step - loss: 0.5325 - accuracy: 0.7392\n",
      "Epoch 48/75\n",
      "804/804 [==============================] - 2s 3ms/step - loss: 0.5322 - accuracy: 0.7411\n",
      "Epoch 49/75\n",
      "804/804 [==============================] - 2s 3ms/step - loss: 0.5325 - accuracy: 0.7415\n",
      "Epoch 50/75\n",
      "804/804 [==============================] - 2s 3ms/step - loss: 0.5330 - accuracy: 0.7406\n",
      "Epoch 51/75\n",
      "804/804 [==============================] - 2s 3ms/step - loss: 0.5319 - accuracy: 0.7411\n",
      "Epoch 52/75\n",
      "804/804 [==============================] - 2s 3ms/step - loss: 0.5320 - accuracy: 0.7405\n",
      "Epoch 53/75\n",
      "804/804 [==============================] - 2s 3ms/step - loss: 0.5317 - accuracy: 0.7419\n",
      "Epoch 54/75\n",
      "804/804 [==============================] - 2s 3ms/step - loss: 0.5311 - accuracy: 0.7409\n",
      "Epoch 55/75\n",
      "804/804 [==============================] - 2s 3ms/step - loss: 0.5316 - accuracy: 0.7412\n",
      "Epoch 56/75\n",
      "804/804 [==============================] - 3s 3ms/step - loss: 0.5318 - accuracy: 0.7409\n",
      "Epoch 57/75\n",
      "804/804 [==============================] - 3s 3ms/step - loss: 0.5313 - accuracy: 0.7423\n",
      "Epoch 58/75\n",
      "804/804 [==============================] - 2s 3ms/step - loss: 0.5313 - accuracy: 0.7406\n",
      "Epoch 59/75\n",
      "804/804 [==============================] - 2s 3ms/step - loss: 0.5308 - accuracy: 0.7405\n",
      "Epoch 60/75\n",
      "804/804 [==============================] - 2s 3ms/step - loss: 0.5313 - accuracy: 0.7413\n",
      "Epoch 61/75\n",
      "804/804 [==============================] - 2s 3ms/step - loss: 0.5309 - accuracy: 0.7408\n",
      "Epoch 62/75\n",
      "804/804 [==============================] - 2s 3ms/step - loss: 0.5310 - accuracy: 0.7406\n",
      "Epoch 63/75\n",
      "804/804 [==============================] - 2s 3ms/step - loss: 0.5303 - accuracy: 0.7418\n",
      "Epoch 64/75\n",
      "804/804 [==============================] - 2s 3ms/step - loss: 0.5309 - accuracy: 0.7415\n",
      "Epoch 65/75\n",
      "804/804 [==============================] - 2s 3ms/step - loss: 0.5303 - accuracy: 0.7421\n",
      "Epoch 66/75\n",
      "804/804 [==============================] - 2s 3ms/step - loss: 0.5299 - accuracy: 0.7407\n",
      "Epoch 67/75\n",
      "804/804 [==============================] - 2s 3ms/step - loss: 0.5306 - accuracy: 0.7418\n",
      "Epoch 68/75\n",
      "804/804 [==============================] - 2s 3ms/step - loss: 0.5300 - accuracy: 0.7422\n",
      "Epoch 69/75\n",
      "804/804 [==============================] - 2s 3ms/step - loss: 0.5306 - accuracy: 0.7408\n",
      "Epoch 70/75\n",
      "804/804 [==============================] - 2s 3ms/step - loss: 0.5297 - accuracy: 0.7417\n",
      "Epoch 71/75\n",
      "804/804 [==============================] - 2s 3ms/step - loss: 0.5293 - accuracy: 0.7421\n",
      "Epoch 72/75\n",
      "804/804 [==============================] - 2s 3ms/step - loss: 0.5299 - accuracy: 0.7414\n",
      "Epoch 73/75\n",
      "804/804 [==============================] - 2s 3ms/step - loss: 0.5300 - accuracy: 0.7425\n",
      "Epoch 74/75\n",
      "804/804 [==============================] - 2s 3ms/step - loss: 0.5295 - accuracy: 0.7420\n",
      "Epoch 75/75\n",
      "804/804 [==============================] - 2s 3ms/step - loss: 0.5297 - accuracy: 0.7421\n"
     ]
    }
   ],
   "source": [
    "# Compile the Sequential model\n",
    "nn_A1.compile(\n",
    "    loss='binary_crossentropy',\n",
    "    optimizer='adam',\n",
    "    metrics=['accuracy']\n",
    ")\n",
    "\n",
    "# Fit the model using 50 epochs and the training data\n",
    "model2 = nn_A1.fit(X_train_scaled, y_train, epochs=75)\n"
   ]
  },
  {
   "cell_type": "code",
   "execution_count": 58,
   "metadata": {
    "execution": {
     "iopub.execute_input": "2022-03-05T15:27:22.817155Z",
     "iopub.status.busy": "2022-03-05T15:27:22.816804Z",
     "iopub.status.idle": "2022-03-05T15:27:23.420382Z",
     "shell.execute_reply": "2022-03-05T15:27:23.418978Z",
     "shell.execute_reply.started": "2022-03-05T15:27:22.817115Z"
    }
   },
   "outputs": [
    {
     "name": "stdout",
     "output_type": "stream",
     "text": [
      "268/268 - 1s - loss: 0.5609 - accuracy: 0.7305 - 524ms/epoch - 2ms/step\n",
      "Loss: 0.5608689188957214, Accuracy: 0.7304956316947937\n"
     ]
    }
   ],
   "source": [
    "# Evaluate the model loss and accuracy metrics\n",
    "# using the evaluate method and the test data.\n",
    "model_loss, model_accuracy = nn_A1.evaluate(X_test_scaled, y_test, verbose=2)\n",
    "\n",
    "# Display the model loss and accuracy results\n",
    "print(f\"Loss: {model_loss}, Accuracy: {model_accuracy}\")"
   ]
  },
  {
   "cell_type": "code",
   "execution_count": 59,
   "metadata": {
    "execution": {
     "iopub.execute_input": "2022-03-05T15:28:18.123120Z",
     "iopub.status.busy": "2022-03-05T15:28:18.121475Z",
     "iopub.status.idle": "2022-03-05T15:28:18.451787Z",
     "shell.execute_reply": "2022-03-05T15:28:18.450839Z",
     "shell.execute_reply.started": "2022-03-05T15:28:18.123063Z"
    }
   },
   "outputs": [
    {
     "data": {
      "image/png": "[encoded data removed]",
      "text/plain": [
       "<Figure size 648x360 with 1 Axes>"
      ]
     },
     "metadata": {
      "needs_background": "light"
     },
     "output_type": "display_data"
    },
    {
     "data": {
      "image/png": "[encoded data removed]",
      "text/plain": [
       "<Figure size 648x360 with 1 Axes>"
      ]
     },
     "metadata": {
      "needs_background": "light"
     },
     "output_type": "display_data"
    }
   ],
   "source": [
    "# Create a DataFrame with the history dictionary.\n",
    "model2_resutls_df = pd.DataFrame(\n",
    "    model2.history,\n",
    "    index=range(1, len(model2.history['loss']) + 1)\n",
    ")\n",
    "\n",
    "# Plot the loss data.\n",
    "model2_resutls_df.plot(\n",
    "    y='loss',\n",
    "    figsize=(9, 5),\n",
    "    title=\"Loss vs Epochs\",\n",
    "    ylabel='Loss',\n",
    "    xlabel='Epoch'\n",
    ");\n",
    "\n",
    "# Plot the accuracy data.\n",
    "model2_resutls_df.plot(\n",
    "    y='accuracy',\n",
    "    figsize=(9, 5),\n",
    "    title='Accuracy vs Epochs',\n",
    "    ylabel='Accuracy',\n",
    "    xlabel='Epoch'\n",
    ");"
   ]
  },
  {
   "cell_type": "markdown",
   "metadata": {},
   "source": [
    "__Save the model__"
   ]
  },
  {
   "cell_type": "code",
   "execution_count": 82,
   "metadata": {
    "execution": {
     "iopub.execute_input": "2022-03-05T19:41:34.536079Z",
     "iopub.status.busy": "2022-03-05T19:41:34.535496Z",
     "iopub.status.idle": "2022-03-05T19:41:34.630974Z",
     "shell.execute_reply": "2022-03-05T19:41:34.629593Z",
     "shell.execute_reply.started": "2022-03-05T19:41:34.536026Z"
    }
   },
   "outputs": [],
   "source": [
    "# Set the model's file path\n",
    "file_path = \"Resources/applicant_success_model2.h5\"\n",
    "\n",
    "# Export your model to a HDF5 file\n",
    "nn_A1.save(file_path)\n"
   ]
  },
  {
   "cell_type": "markdown",
   "metadata": {},
   "source": [
    "#### Alternative NN 2 - 110/74/110/1  \n",
    "Add a third hidden layer that expands back out to the size of the first hidden layer."
   ]
  },
  {
   "cell_type": "code",
   "execution_count": 61,
   "metadata": {
    "execution": {
     "iopub.execute_input": "2022-03-05T15:53:06.500954Z",
     "iopub.status.busy": "2022-03-05T15:53:06.500536Z",
     "iopub.status.idle": "2022-03-05T15:53:06.514318Z",
     "shell.execute_reply": "2022-03-05T15:53:06.511377Z",
     "shell.execute_reply.started": "2022-03-05T15:53:06.500915Z"
    }
   },
   "outputs": [
    {
     "data": {
      "text/plain": [
       "109"
      ]
     },
     "execution_count": 61,
     "metadata": {},
     "output_type": "execute_result"
    }
   ],
   "source": [
    "# Define the the number of inputs (features) to the model\n",
    "number_input_features = len(X_train.iloc[0])\n",
    "\n",
    "# Review the number of features\n",
    "number_input_features"
   ]
  },
  {
   "cell_type": "code",
   "execution_count": 62,
   "metadata": {
    "execution": {
     "iopub.execute_input": "2022-03-05T15:55:34.099771Z",
     "iopub.status.busy": "2022-03-05T15:55:34.099442Z",
     "iopub.status.idle": "2022-03-05T15:55:34.107808Z",
     "shell.execute_reply": "2022-03-05T15:55:34.105832Z",
     "shell.execute_reply.started": "2022-03-05T15:55:34.099734Z"
    }
   },
   "outputs": [],
   "source": [
    "# Define the number of neurons in the output layer\n",
    "number_output_neurons_A2 = 1\n",
    "\n",
    "# Define the number of hidden nodes for the first hidden layer\n",
    "hidden_nodes_layer1_A2 = number_input_features + 1\n",
    "\n",
    "# Define the number of hidden nodes for the second hidden layer\n",
    "hidden_nodes_layer2_A2 = \\\n",
    "    (hidden_nodes_layer1_A2 + number_output_neurons) * (2/3)\n",
    "\n",
    "# Define the number of hidden nodes for the third hidden layer\n",
    "hidden_nodes_layer3_A2 = hidden_nodes_layer1_A2"
   ]
  },
  {
   "cell_type": "code",
   "execution_count": 63,
   "metadata": {
    "execution": {
     "iopub.execute_input": "2022-03-05T15:58:27.809904Z",
     "iopub.status.busy": "2022-03-05T15:58:27.809455Z",
     "iopub.status.idle": "2022-03-05T15:58:27.921179Z",
     "shell.execute_reply": "2022-03-05T15:58:27.918900Z",
     "shell.execute_reply.started": "2022-03-05T15:58:27.809813Z"
    }
   },
   "outputs": [
    {
     "name": "stdout",
     "output_type": "stream",
     "text": [
      "Model: \"sequential_4\"\n",
      "_________________________________________________________________\n",
      " Layer (type)                Output Shape              Param #   \n",
      "=================================================================\n",
      " dense_12 (Dense)            (None, 110)               12100     \n",
      "                                                                 \n",
      " dense_13 (Dense)            (None, 74)                8214      \n",
      "                                                                 \n",
      " dense_14 (Dense)            (None, 110)               8250      \n",
      "                                                                 \n",
      " dense_15 (Dense)            (None, 1)                 111       \n",
      "                                                                 \n",
      "=================================================================\n",
      "Total params: 28,675\n",
      "Trainable params: 28,675\n",
      "Non-trainable params: 0\n",
      "_________________________________________________________________\n"
     ]
    }
   ],
   "source": [
    "# Create the Sequential model instance\n",
    "nn_A2 = Sequential()\n",
    "\n",
    "# First hidden layer\n",
    "nn_A2.add(Dense(\n",
    "    input_dim=number_input_features,\n",
    "    units=hidden_nodes_layer1_A2,\n",
    "    activation='relu'\n",
    "))\n",
    "\n",
    "# Second hidden layer\n",
    "nn_A2.add(Dense(\n",
    "    units=hidden_nodes_layer2_A2,\n",
    "    activation='relu'\n",
    "))\n",
    "\n",
    "# Third hidden layer\n",
    "nn_A2.add(Dense(\n",
    "    units=hidden_nodes_layer3_A2,\n",
    "    activation='relu'\n",
    "))\n",
    "\n",
    "# Output layer\n",
    "nn_A2.add(Dense(\n",
    "    units=number_output_neurons_A2,\n",
    "    activation='sigmoid'\n",
    "))\n",
    "\n",
    "# Check the structure of the model\n",
    "nn_A2.summary()\n"
   ]
  },
  {
   "cell_type": "code",
   "execution_count": 64,
   "metadata": {
    "execution": {
     "iopub.execute_input": "2022-03-05T16:00:37.565413Z",
     "iopub.status.busy": "2022-03-05T16:00:37.564010Z",
     "iopub.status.idle": "2022-03-05T16:02:49.939466Z",
     "shell.execute_reply": "2022-03-05T16:02:49.938257Z",
     "shell.execute_reply.started": "2022-03-05T16:00:37.565362Z"
    },
    "tags": []
   },
   "outputs": [
    {
     "name": "stdout",
     "output_type": "stream",
     "text": [
      "Epoch 1/50\n",
      "804/804 [==============================] - 3s 3ms/step - loss: 0.5741 - accuracy: 0.7166\n",
      "Epoch 2/50\n",
      "804/804 [==============================] - 3s 3ms/step - loss: 0.5530 - accuracy: 0.7304\n",
      "Epoch 3/50\n",
      "804/804 [==============================] - 2s 3ms/step - loss: 0.5496 - accuracy: 0.7300\n",
      "Epoch 4/50\n",
      "804/804 [==============================] - 2s 3ms/step - loss: 0.5475 - accuracy: 0.7317\n",
      "Epoch 5/50\n",
      "804/804 [==============================] - 2s 3ms/step - loss: 0.5462 - accuracy: 0.7325\n",
      "Epoch 6/50\n",
      "804/804 [==============================] - 2s 3ms/step - loss: 0.5450 - accuracy: 0.7344\n",
      "Epoch 7/50\n",
      "804/804 [==============================] - 2s 3ms/step - loss: 0.5446 - accuracy: 0.7336\n",
      "Epoch 8/50\n",
      "804/804 [==============================] - 3s 4ms/step - loss: 0.5432 - accuracy: 0.7352\n",
      "Epoch 9/50\n",
      "804/804 [==============================] - 3s 4ms/step - loss: 0.5427 - accuracy: 0.7345\n",
      "Epoch 10/50\n",
      "804/804 [==============================] - 3s 3ms/step - loss: 0.5424 - accuracy: 0.7355\n",
      "Epoch 11/50\n",
      "804/804 [==============================] - 3s 4ms/step - loss: 0.5417 - accuracy: 0.7347\n",
      "Epoch 12/50\n",
      "804/804 [==============================] - 3s 4ms/step - loss: 0.5411 - accuracy: 0.7356\n",
      "Epoch 13/50\n",
      "804/804 [==============================] - 3s 3ms/step - loss: 0.5408 - accuracy: 0.7367\n",
      "Epoch 14/50\n",
      "804/804 [==============================] - 3s 4ms/step - loss: 0.5400 - accuracy: 0.7364\n",
      "Epoch 15/50\n",
      "804/804 [==============================] - 3s 4ms/step - loss: 0.5399 - accuracy: 0.7363\n",
      "Epoch 16/50\n",
      "804/804 [==============================] - 3s 3ms/step - loss: 0.5395 - accuracy: 0.7364\n",
      "Epoch 17/50\n",
      "804/804 [==============================] - 3s 4ms/step - loss: 0.5385 - accuracy: 0.7373\n",
      "Epoch 18/50\n",
      "804/804 [==============================] - 4s 5ms/step - loss: 0.5384 - accuracy: 0.7374\n",
      "Epoch 19/50\n",
      "804/804 [==============================] - 3s 4ms/step - loss: 0.5383 - accuracy: 0.7381\n",
      "Epoch 20/50\n",
      "804/804 [==============================] - 3s 4ms/step - loss: 0.5379 - accuracy: 0.7384\n",
      "Epoch 21/50\n",
      "804/804 [==============================] - 2s 3ms/step - loss: 0.5375 - accuracy: 0.7383\n",
      "Epoch 22/50\n",
      "804/804 [==============================] - 2s 3ms/step - loss: 0.5373 - accuracy: 0.7387\n",
      "Epoch 23/50\n",
      "804/804 [==============================] - 2s 3ms/step - loss: 0.5361 - accuracy: 0.7388\n",
      "Epoch 24/50\n",
      "804/804 [==============================] - 2s 3ms/step - loss: 0.5362 - accuracy: 0.7397\n",
      "Epoch 25/50\n",
      "804/804 [==============================] - 2s 3ms/step - loss: 0.5361 - accuracy: 0.7392\n",
      "Epoch 26/50\n",
      "804/804 [==============================] - 2s 3ms/step - loss: 0.5360 - accuracy: 0.7397\n",
      "Epoch 27/50\n",
      "804/804 [==============================] - 3s 3ms/step - loss: 0.5354 - accuracy: 0.7388\n",
      "Epoch 28/50\n",
      "804/804 [==============================] - 3s 3ms/step - loss: 0.5348 - accuracy: 0.7397\n",
      "Epoch 29/50\n",
      "804/804 [==============================] - 2s 3ms/step - loss: 0.5352 - accuracy: 0.7402\n",
      "Epoch 30/50\n",
      "804/804 [==============================] - 2s 3ms/step - loss: 0.5350 - accuracy: 0.7395\n",
      "Epoch 31/50\n",
      "804/804 [==============================] - 2s 3ms/step - loss: 0.5342 - accuracy: 0.7395\n",
      "Epoch 32/50\n",
      "804/804 [==============================] - 2s 3ms/step - loss: 0.5335 - accuracy: 0.7400\n",
      "Epoch 33/50\n",
      "804/804 [==============================] - 2s 3ms/step - loss: 0.5333 - accuracy: 0.7397\n",
      "Epoch 34/50\n",
      "804/804 [==============================] - 2s 3ms/step - loss: 0.5328 - accuracy: 0.7413\n",
      "Epoch 35/50\n",
      "804/804 [==============================] - 2s 3ms/step - loss: 0.5329 - accuracy: 0.7400\n",
      "Epoch 36/50\n",
      "804/804 [==============================] - 2s 3ms/step - loss: 0.5328 - accuracy: 0.7408\n",
      "Epoch 37/50\n",
      "804/804 [==============================] - 2s 3ms/step - loss: 0.5327 - accuracy: 0.7404\n",
      "Epoch 38/50\n",
      "804/804 [==============================] - 2s 3ms/step - loss: 0.5325 - accuracy: 0.7407\n",
      "Epoch 39/50\n",
      "804/804 [==============================] - 2s 3ms/step - loss: 0.5324 - accuracy: 0.7413\n",
      "Epoch 40/50\n",
      "804/804 [==============================] - 2s 3ms/step - loss: 0.5321 - accuracy: 0.7410\n",
      "Epoch 41/50\n",
      "804/804 [==============================] - 3s 3ms/step - loss: 0.5324 - accuracy: 0.7414\n",
      "Epoch 42/50\n",
      "804/804 [==============================] - 3s 4ms/step - loss: 0.5316 - accuracy: 0.7398\n",
      "Epoch 43/50\n",
      "804/804 [==============================] - 3s 3ms/step - loss: 0.5310 - accuracy: 0.7412\n",
      "Epoch 44/50\n",
      "804/804 [==============================] - 2s 3ms/step - loss: 0.5320 - accuracy: 0.7399\n",
      "Epoch 45/50\n",
      "804/804 [==============================] - 3s 4ms/step - loss: 0.5318 - accuracy: 0.7416\n",
      "Epoch 46/50\n",
      "804/804 [==============================] - 2s 3ms/step - loss: 0.5313 - accuracy: 0.7418\n",
      "Epoch 47/50\n",
      "804/804 [==============================] - 2s 3ms/step - loss: 0.5311 - accuracy: 0.7409\n",
      "Epoch 48/50\n",
      "804/804 [==============================] - 2s 3ms/step - loss: 0.5308 - accuracy: 0.7410\n",
      "Epoch 49/50\n",
      "804/804 [==============================] - 2s 3ms/step - loss: 0.5312 - accuracy: 0.7414\n",
      "Epoch 50/50\n",
      "804/804 [==============================] - 2s 3ms/step - loss: 0.5307 - accuracy: 0.7409\n"
     ]
    }
   ],
   "source": [
    "# Compile the model\n",
    "nn_A2.compile(\n",
    "    loss='binary_crossentropy',\n",
    "    optimizer='adam',\n",
    "    metrics=['accuracy']\n",
    ")\n",
    "\n",
    "# Fit the model\n",
    "model3 = nn_A2.fit(X_train_scaled, y_train, epochs=50)\n"
   ]
  },
  {
   "cell_type": "code",
   "execution_count": 65,
   "metadata": {
    "execution": {
     "iopub.execute_input": "2022-03-05T16:05:08.769600Z",
     "iopub.status.busy": "2022-03-05T16:05:08.769018Z",
     "iopub.status.idle": "2022-03-05T16:05:09.607509Z",
     "shell.execute_reply": "2022-03-05T16:05:09.605699Z",
     "shell.execute_reply.started": "2022-03-05T16:05:08.769415Z"
    }
   },
   "outputs": [
    {
     "name": "stdout",
     "output_type": "stream",
     "text": [
      "268/268 - 0s - loss: 0.5588 - accuracy: 0.7315 - 466ms/epoch - 2ms/step\n",
      "Loss: 0.5587626099586487, Accuracy: 0.7315452098846436\n"
     ]
    }
   ],
   "source": [
    "# Evaluate the model loss and accuracy metrics\n",
    "# using the evaluate method and the test data.\n",
    "model_loss, model_accuracy = nn_A2.evaluate(X_test_scaled, y_test, verbose=2)\n",
    "\n",
    "# Display the model loss and accuracy results\n",
    "print(f\"Loss: {model_loss}, Accuracy: {model_accuracy}\")"
   ]
  },
  {
   "cell_type": "code",
   "execution_count": 66,
   "metadata": {
    "execution": {
     "iopub.execute_input": "2022-03-05T16:06:12.125105Z",
     "iopub.status.busy": "2022-03-05T16:06:12.124686Z",
     "iopub.status.idle": "2022-03-05T16:06:12.435798Z",
     "shell.execute_reply": "2022-03-05T16:06:12.434680Z",
     "shell.execute_reply.started": "2022-03-05T16:06:12.125067Z"
    }
   },
   "outputs": [
    {
     "data": {
      "image/png": "[encoded data removed]",
      "text/plain": [
       "<Figure size 648x360 with 1 Axes>"
      ]
     },
     "metadata": {
      "needs_background": "light"
     },
     "output_type": "display_data"
    },
    {
     "data": {
      "image/png": "[encoded data removed]",
      "text/plain": [
       "<Figure size 648x360 with 1 Axes>"
      ]
     },
     "metadata": {
      "needs_background": "light"
     },
     "output_type": "display_data"
    }
   ],
   "source": [
    "# Create a DataFrame with the history dictionary.\n",
    "model3_resutls_df = pd.DataFrame(\n",
    "    model3.history,\n",
    "    index=range(1, len(model3.history['loss']) + 1)\n",
    ")\n",
    "\n",
    "# Plot the loss data.\n",
    "model3_resutls_df.plot(\n",
    "    y='loss',\n",
    "    figsize=(9, 5),\n",
    "    title=\"Loss vs Epochs\",\n",
    "    ylabel='Loss',\n",
    "    xlabel='Epoch'\n",
    ");\n",
    "\n",
    "# Plot the accuracy data.\n",
    "model3_resutls_df.plot(\n",
    "    y='accuracy',\n",
    "    figsize=(9, 5),\n",
    "    title='Accuracy vs Epochs',\n",
    "    ylabel='Accuracy',\n",
    "    xlabel='Epoch'\n",
    ");"
   ]
  },
  {
   "cell_type": "markdown",
   "metadata": {},
   "source": [
    "__Save the model__"
   ]
  },
  {
   "cell_type": "code",
   "execution_count": 83,
   "metadata": {
    "execution": {
     "iopub.execute_input": "2022-03-05T19:41:34.633901Z",
     "iopub.status.busy": "2022-03-05T19:41:34.633521Z",
     "iopub.status.idle": "2022-03-05T19:41:34.734498Z",
     "shell.execute_reply": "2022-03-05T19:41:34.733372Z",
     "shell.execute_reply.started": "2022-03-05T19:41:34.633816Z"
    }
   },
   "outputs": [],
   "source": [
    "# Set the model's file path\n",
    "file_path = \"Resources/applicant_success_model3.h5\"\n",
    "\n",
    "# Export your model to a HDF5 file\n",
    "nn_A2.save(file_path)\n"
   ]
  },
  {
   "cell_type": "markdown",
   "metadata": {},
   "source": [
    "#### Alternative NN 3 - 110/74/110/1  \n",
    "Add dropouts to the hidden layers."
   ]
  },
  {
   "cell_type": "markdown",
   "metadata": {},
   "source": [
    "<br>\n",
    "\n",
    "__Set the number of neurons for each layer__"
   ]
  },
  {
   "cell_type": "code",
   "execution_count": 68,
   "metadata": {
    "execution": {
     "iopub.execute_input": "2022-03-05T16:10:12.889567Z",
     "iopub.status.busy": "2022-03-05T16:10:12.889121Z",
     "iopub.status.idle": "2022-03-05T16:10:12.896834Z",
     "shell.execute_reply": "2022-03-05T16:10:12.895385Z",
     "shell.execute_reply.started": "2022-03-05T16:10:12.889528Z"
    }
   },
   "outputs": [],
   "source": [
    "# Define the number of hidden nodes for the first hidden layer\n",
    "hidden_nodes_layer1_A3 = number_input_features + 1\n",
    "\n",
    "# Define the number of hidden nodes for the second hidden layer\n",
    "hidden_nodes_layer2_A3 = \\\n",
    "    (hidden_nodes_layer1_A3 + number_output_neurons) * (2/3)\n",
    "\n",
    "# Define the number of hidden nodes for the third hidden layer\n",
    "hidden_nodes_layer3_A3 = hidden_nodes_layer1_A3"
   ]
  },
  {
   "cell_type": "markdown",
   "metadata": {},
   "source": [
    "__Build the neural network.__"
   ]
  },
  {
   "cell_type": "code",
   "execution_count": 69,
   "metadata": {
    "execution": {
     "iopub.execute_input": "2022-03-05T16:13:01.207823Z",
     "iopub.status.busy": "2022-03-05T16:13:01.207372Z",
     "iopub.status.idle": "2022-03-05T16:13:01.343912Z",
     "shell.execute_reply": "2022-03-05T16:13:01.340028Z",
     "shell.execute_reply.started": "2022-03-05T16:13:01.207699Z"
    }
   },
   "outputs": [
    {
     "name": "stdout",
     "output_type": "stream",
     "text": [
      "Model: \"sequential_5\"\n",
      "_________________________________________________________________\n",
      " Layer (type)                Output Shape              Param #   \n",
      "=================================================================\n",
      " dense_16 (Dense)            (None, 110)               12100     \n",
      "                                                                 \n",
      " dropout (Dropout)           (None, 110)               0         \n",
      "                                                                 \n",
      " dense_17 (Dense)            (None, 74)                8214      \n",
      "                                                                 \n",
      " dropout_1 (Dropout)         (None, 74)                0         \n",
      "                                                                 \n",
      " dense_18 (Dense)            (None, 110)               8250      \n",
      "                                                                 \n",
      " dropout_2 (Dropout)         (None, 110)               0         \n",
      "                                                                 \n",
      " dense_19 (Dense)            (None, 1)                 111       \n",
      "                                                                 \n",
      "=================================================================\n",
      "Total params: 28,675\n",
      "Trainable params: 28,675\n",
      "Non-trainable params: 0\n",
      "_________________________________________________________________\n"
     ]
    }
   ],
   "source": [
    "# Create the Sequential model instance\n",
    "nn_A3 = Sequential()\n",
    "\n",
    "# First hidden layer\n",
    "nn_A3.add(Dense(\n",
    "    input_dim=number_input_features,\n",
    "    units=hidden_nodes_layer1_A3,\n",
    "    activation='relu'\n",
    "))\n",
    "nn_A3.add(Dropout(0.2))\n",
    "\n",
    "# Second hidden layer\n",
    "nn_A3.add(Dense(\n",
    "    units=hidden_nodes_layer2_A3,\n",
    "    activation='relu'\n",
    "))\n",
    "nn_A3.add(Dropout(0.2))\n",
    "\n",
    "# Third hidden layer\n",
    "nn_A3.add(Dense(\n",
    "    units=hidden_nodes_layer3_A3,\n",
    "    activation='relu'\n",
    "))\n",
    "nn_A3.add(Dropout(0.2))\n",
    "\n",
    "# Output layer\n",
    "nn_A3.add(Dense(\n",
    "    units=1,\n",
    "    activation='sigmoid'\n",
    "))\n",
    "\n",
    "# Check the structure of the model\n",
    "nn_A3.summary()\n"
   ]
  },
  {
   "cell_type": "markdown",
   "metadata": {},
   "source": [
    "__Compile and fit the neural network.__"
   ]
  },
  {
   "cell_type": "code",
   "execution_count": 80,
   "metadata": {
    "execution": {
     "iopub.execute_input": "2022-03-05T19:39:11.348692Z",
     "iopub.status.busy": "2022-03-05T19:39:11.348254Z",
     "iopub.status.idle": "2022-03-05T19:41:34.445486Z",
     "shell.execute_reply": "2022-03-05T19:41:34.444286Z",
     "shell.execute_reply.started": "2022-03-05T19:39:11.348540Z"
    },
    "tags": []
   },
   "outputs": [
    {
     "name": "stdout",
     "output_type": "stream",
     "text": [
      "Epoch 1/50\n",
      "804/804 [==============================] - 3s 3ms/step - loss: 0.5372 - accuracy: 0.7389\n",
      "Epoch 2/50\n",
      "804/804 [==============================] - 3s 3ms/step - loss: 0.5353 - accuracy: 0.7400\n",
      "Epoch 3/50\n",
      "804/804 [==============================] - 3s 3ms/step - loss: 0.5362 - accuracy: 0.7399\n",
      "Epoch 4/50\n",
      "804/804 [==============================] - 3s 3ms/step - loss: 0.5369 - accuracy: 0.7392\n",
      "Epoch 5/50\n",
      "804/804 [==============================] - 3s 3ms/step - loss: 0.5337 - accuracy: 0.7400\n",
      "Epoch 6/50\n",
      "804/804 [==============================] - 3s 3ms/step - loss: 0.5360 - accuracy: 0.7409\n",
      "Epoch 7/50\n",
      "804/804 [==============================] - 3s 4ms/step - loss: 0.5352 - accuracy: 0.7400\n",
      "Epoch 8/50\n",
      "804/804 [==============================] - 3s 3ms/step - loss: 0.5349 - accuracy: 0.7394\n",
      "Epoch 9/50\n",
      "804/804 [==============================] - 3s 4ms/step - loss: 0.5352 - accuracy: 0.7391\n",
      "Epoch 10/50\n",
      "804/804 [==============================] - 3s 3ms/step - loss: 0.5354 - accuracy: 0.7393\n",
      "Epoch 11/50\n",
      "804/804 [==============================] - 3s 3ms/step - loss: 0.5354 - accuracy: 0.7395\n",
      "Epoch 12/50\n",
      "804/804 [==============================] - 3s 3ms/step - loss: 0.5356 - accuracy: 0.7397\n",
      "Epoch 13/50\n",
      "804/804 [==============================] - 3s 4ms/step - loss: 0.5356 - accuracy: 0.7407\n",
      "Epoch 14/50\n",
      "804/804 [==============================] - 3s 4ms/step - loss: 0.5357 - accuracy: 0.7387\n",
      "Epoch 15/50\n",
      "804/804 [==============================] - 3s 4ms/step - loss: 0.5353 - accuracy: 0.7381\n",
      "Epoch 16/50\n",
      "804/804 [==============================] - 3s 4ms/step - loss: 0.5382 - accuracy: 0.7397\n",
      "Epoch 17/50\n",
      "804/804 [==============================] - 3s 3ms/step - loss: 0.5355 - accuracy: 0.7394\n",
      "Epoch 18/50\n",
      "804/804 [==============================] - 3s 3ms/step - loss: 0.5357 - accuracy: 0.7395\n",
      "Epoch 19/50\n",
      "804/804 [==============================] - 3s 3ms/step - loss: 0.5356 - accuracy: 0.7393\n",
      "Epoch 20/50\n",
      "804/804 [==============================] - 3s 3ms/step - loss: 0.5364 - accuracy: 0.7406\n",
      "Epoch 21/50\n",
      "804/804 [==============================] - 3s 3ms/step - loss: 0.5339 - accuracy: 0.7405\n",
      "Epoch 22/50\n",
      "804/804 [==============================] - 3s 4ms/step - loss: 0.5354 - accuracy: 0.7395\n",
      "Epoch 23/50\n",
      "804/804 [==============================] - 3s 4ms/step - loss: 0.5338 - accuracy: 0.7400\n",
      "Epoch 24/50\n",
      "804/804 [==============================] - 4s 4ms/step - loss: 0.5350 - accuracy: 0.7400\n",
      "Epoch 25/50\n",
      "804/804 [==============================] - 3s 4ms/step - loss: 0.5339 - accuracy: 0.7394\n",
      "Epoch 26/50\n",
      "804/804 [==============================] - 3s 4ms/step - loss: 0.5350 - accuracy: 0.7394\n",
      "Epoch 27/50\n",
      "804/804 [==============================] - 3s 4ms/step - loss: 0.5352 - accuracy: 0.7399\n",
      "Epoch 28/50\n",
      "804/804 [==============================] - 3s 4ms/step - loss: 0.5335 - accuracy: 0.7394\n",
      "Epoch 29/50\n",
      "804/804 [==============================] - 3s 3ms/step - loss: 0.5346 - accuracy: 0.7395\n",
      "Epoch 30/50\n",
      "804/804 [==============================] - 3s 4ms/step - loss: 0.5357 - accuracy: 0.7390\n",
      "Epoch 31/50\n",
      "804/804 [==============================] - 3s 4ms/step - loss: 0.5353 - accuracy: 0.7399\n",
      "Epoch 32/50\n",
      "804/804 [==============================] - 3s 4ms/step - loss: 0.5338 - accuracy: 0.7402\n",
      "Epoch 33/50\n",
      "804/804 [==============================] - 3s 4ms/step - loss: 0.5339 - accuracy: 0.7403\n",
      "Epoch 34/50\n",
      "804/804 [==============================] - 3s 3ms/step - loss: 0.5338 - accuracy: 0.7402\n",
      "Epoch 35/50\n",
      "804/804 [==============================] - 3s 3ms/step - loss: 0.5358 - accuracy: 0.7397\n",
      "Epoch 36/50\n",
      "804/804 [==============================] - 3s 4ms/step - loss: 0.5341 - accuracy: 0.7395\n",
      "Epoch 37/50\n",
      "804/804 [==============================] - 3s 4ms/step - loss: 0.5334 - accuracy: 0.7401\n",
      "Epoch 38/50\n",
      "804/804 [==============================] - 3s 4ms/step - loss: 0.5356 - accuracy: 0.7387\n",
      "Epoch 39/50\n",
      "804/804 [==============================] - 3s 4ms/step - loss: 0.5343 - accuracy: 0.7398\n",
      "Epoch 40/50\n",
      "804/804 [==============================] - 3s 3ms/step - loss: 0.5350 - accuracy: 0.7399\n",
      "Epoch 41/50\n",
      "804/804 [==============================] - 3s 4ms/step - loss: 0.5342 - accuracy: 0.7399\n",
      "Epoch 42/50\n",
      "804/804 [==============================] - 3s 4ms/step - loss: 0.5345 - accuracy: 0.7402\n",
      "Epoch 43/50\n",
      "804/804 [==============================] - 3s 4ms/step - loss: 0.5346 - accuracy: 0.7397\n",
      "Epoch 44/50\n",
      "804/804 [==============================] - 3s 3ms/step - loss: 0.5347 - accuracy: 0.7393\n",
      "Epoch 45/50\n",
      "804/804 [==============================] - 3s 4ms/step - loss: 0.5337 - accuracy: 0.7406\n",
      "Epoch 46/50\n",
      "804/804 [==============================] - 3s 3ms/step - loss: 0.5328 - accuracy: 0.7397\n",
      "Epoch 47/50\n",
      "804/804 [==============================] - 3s 3ms/step - loss: 0.5348 - accuracy: 0.7401\n",
      "Epoch 48/50\n",
      "804/804 [==============================] - 3s 4ms/step - loss: 0.5334 - accuracy: 0.7402\n",
      "Epoch 49/50\n",
      "804/804 [==============================] - 3s 3ms/step - loss: 0.5366 - accuracy: 0.7404\n",
      "Epoch 50/50\n",
      "804/804 [==============================] - 3s 4ms/step - loss: 0.5344 - accuracy: 0.7415\n"
     ]
    }
   ],
   "source": [
    "# Compile the model\n",
    "nn_A3.compile(\n",
    "    loss='binary_crossentropy',\n",
    "    optimizer='adam',\n",
    "    metrics=['accuracy']\n",
    ")\n",
    "\n",
    "# Fit the model\n",
    "model4 = nn_A3.fit(X_train_scaled, y_train, epochs=50)"
   ]
  },
  {
   "cell_type": "code",
   "execution_count": 84,
   "metadata": {
    "execution": {
     "iopub.execute_input": "2022-03-05T19:41:34.736465Z",
     "iopub.status.busy": "2022-03-05T19:41:34.735637Z",
     "iopub.status.idle": "2022-03-05T19:41:35.399402Z",
     "shell.execute_reply": "2022-03-05T19:41:35.397815Z",
     "shell.execute_reply.started": "2022-03-05T19:41:34.736425Z"
    },
    "tags": []
   },
   "outputs": [
    {
     "name": "stdout",
     "output_type": "stream",
     "text": [
      "268/268 - 1s - loss: 0.5658 - accuracy: 0.7310 - 585ms/epoch - 2ms/step\n",
      "Loss: 0.565784752368927, Accuracy: 0.7309620976448059\n"
     ]
    }
   ],
   "source": [
    "# Evaluate the model loss and accuracy metrics\n",
    "# using the evaluate method and the test data.\n",
    "model_loss, model_accuracy = nn_A3.evaluate(X_test_scaled, y_test, verbose=2)\n",
    "\n",
    "# Display the model loss and accuracy results\n",
    "print(f\"Loss: {model_loss}, Accuracy: {model_accuracy}\")"
   ]
  },
  {
   "cell_type": "code",
   "execution_count": 85,
   "metadata": {
    "execution": {
     "iopub.execute_input": "2022-03-05T19:41:35.400917Z",
     "iopub.status.busy": "2022-03-05T19:41:35.400638Z",
     "iopub.status.idle": "2022-03-05T19:41:35.728695Z",
     "shell.execute_reply": "2022-03-05T19:41:35.727311Z",
     "shell.execute_reply.started": "2022-03-05T19:41:35.400888Z"
    },
    "tags": []
   },
   "outputs": [
    {
     "data": {
      "image/png": "[encoded data removed]",
      "text/plain": [
       "<Figure size 648x360 with 1 Axes>"
      ]
     },
     "metadata": {
      "needs_background": "light"
     },
     "output_type": "display_data"
    },
    {
     "data": {
      "image/png": "[encoded data removed]",
      "text/plain": [
       "<Figure size 648x360 with 1 Axes>"
      ]
     },
     "metadata": {
      "needs_background": "light"
     },
     "output_type": "display_data"
    }
   ],
   "source": [
    "# Create a DataFrame with the history dictionary.\n",
    "model4_resutls_df = pd.DataFrame(\n",
    "    model4.history,\n",
    "    index=range(1, len(model4.history['loss']) + 1)\n",
    ")\n",
    "\n",
    "# Plot the loss data.\n",
    "model4_resutls_df.plot(\n",
    "    y='loss',\n",
    "    figsize=(9, 5),\n",
    "    title=\"Loss vs Epochs\",\n",
    "    ylabel='Loss',\n",
    "    xlabel='Epoch'\n",
    ");\n",
    "\n",
    "# Plot the accuracy data.\n",
    "model4_resutls_df.plot(\n",
    "    y='accuracy',\n",
    "    figsize=(9, 5),\n",
    "    title='Accuracy vs Epochs',\n",
    "    ylabel='Accuracy',\n",
    "    xlabel='Epoch'\n",
    ");"
   ]
  },
  {
   "cell_type": "markdown",
   "metadata": {},
   "source": [
    "__Save the model__"
   ]
  },
  {
   "cell_type": "code",
   "execution_count": 86,
   "metadata": {
    "execution": {
     "iopub.execute_input": "2022-03-05T19:41:35.730144Z",
     "iopub.status.busy": "2022-03-05T19:41:35.729909Z",
     "iopub.status.idle": "2022-03-05T19:41:35.855723Z",
     "shell.execute_reply": "2022-03-05T19:41:35.854035Z",
     "shell.execute_reply.started": "2022-03-05T19:41:35.730110Z"
    }
   },
   "outputs": [],
   "source": [
    "# Set the model's file path\n",
    "file_path = \"Resources/applicant_success_model4.h5\"\n",
    "\n",
    "# Export your model to a HDF5 file\n",
    "nn_A3.save(file_path)\n"
   ]
  },
  {
   "cell_type": "markdown",
   "metadata": {},
   "source": [
    "### Step 2: After finishing your models, display the accuracy scores achieved by each model, and compare the results."
   ]
  },
  {
   "cell_type": "code",
   "execution_count": null,
   "metadata": {},
   "outputs": [],
   "source": [
    "print(\"Original Model Results\")\n",
    "\n",
    "# Evaluate the model loss and accuracy metrics using the evaluate method and the test data\n",
    "model_loss, model_accuracy = # YOUR CODE HERE\n",
    "\n",
    "# Display the model loss and accuracy results\n",
    "print(f\"Loss: {model_loss}, Accuracy: {model_accuracy}\")"
   ]
  },
  {
   "cell_type": "code",
   "execution_count": null,
   "metadata": {},
   "outputs": [],
   "source": [
    "print(\"Alternative Model 1 Results\")\n",
    "\n",
    "# Evaluate the model loss and accuracy metrics using the evaluate method and the test data\n",
    "model_loss, model_accuracy =# YOUR CODE HERE\n",
    "\n",
    "# Display the model loss and accuracy results\n",
    "print(f\"Loss: {model_loss}, Accuracy: {model_accuracy}\")"
   ]
  },
  {
   "cell_type": "code",
   "execution_count": null,
   "metadata": {},
   "outputs": [],
   "source": [
    "print(\"Alternative Model 2 Results\")\n",
    "\n",
    "# Evaluate the model loss and accuracy metrics using the evaluate method and the test data\n",
    "model_loss, model_accuracy = # YOUR CODE HERE\n",
    "\n",
    "# Display the model loss and accuracy results\n",
    "print(f\"Loss: {model_loss}, Accuracy: {model_accuracy}\")"
   ]
  },
  {
   "cell_type": "markdown",
   "metadata": {},
   "source": [
    "### Step 3: Save each of your alternative models as an HDF5 file.\n"
   ]
  },
  {
   "cell_type": "code",
   "execution_count": null,
   "metadata": {},
   "outputs": [],
   "source": [
    "# Set the file path for the first alternative model\n",
    "file_path = # YOUR CODE HERE\n",
    "\n",
    "# Export your model to a HDF5 file\n",
    "# YOUR CODE HERE\n"
   ]
  },
  {
   "cell_type": "code",
   "execution_count": null,
   "metadata": {},
   "outputs": [],
   "source": [
    "# Set the file path for the second alternative model\n",
    "file_path = # YOUR CODE HERE\n",
    "\n",
    "# Export your model to a HDF5 file\n",
    "# YOUR CODE HERE\n"
   ]
  },
  {
   "cell_type": "code",
   "execution_count": null,
   "metadata": {},
   "outputs": [],
   "source": []
  }
 ],
 "metadata": {
  "kernelspec": {
   "display_name": "Python 3 (ipykernel)",
   "language": "python",
   "name": "python3"
  },
  "language_info": {
   "codemirror_mode": {
    "name": "ipython",
    "version": 3
   },
   "file_extension": ".py",
   "mimetype": "text/x-python",
   "name": "python",
   "nbconvert_exporter": "python",
   "pygments_lexer": "ipython3",
   "version": "3.9.5"
  }
 },
 "nbformat": 4,
 "nbformat_minor": 4
}
